{
 "cells": [
  {
   "cell_type": "code",
   "execution_count": 2,
   "id": "diagnostic-easter",
   "metadata": {},
   "outputs": [],
   "source": [
    "import pandas as pd"
   ]
  },
  {
   "cell_type": "code",
   "execution_count": 3,
   "id": "conservative-moldova",
   "metadata": {
    "scrolled": true
   },
   "outputs": [
    {
     "name": "stderr",
     "output_type": "stream",
     "text": [
      "/opt/app-root/lib/python3.6/site-packages/geopandas/_compat.py:110: UserWarning: The Shapely GEOS version (3.8.0-CAPI-1.13.1 ) is incompatible with the GEOS version PyGEOS was compiled with (3.9.0-CAPI-1.16.2). Conversions between both will be slow.\n",
      "  shapely_geos_version, geos_capi_version_string\n"
     ]
    }
   ],
   "source": [
    "import json\n",
    "import folium\n",
    "from folium import plugins\n",
    "import geopandas as gpd\n",
    "import matplotlib.pyplot as plt"
   ]
  },
  {
   "cell_type": "code",
   "execution_count": 4,
   "id": "military-apparel",
   "metadata": {},
   "outputs": [],
   "source": [
    "four = pd.read_csv('4.김해시_112신고이력(격자매핑).csv')"
   ]
  },
  {
   "cell_type": "code",
   "execution_count": 5,
   "id": "functioning-semiconductor",
   "metadata": {},
   "outputs": [],
   "source": [
    "four = four.groupby('gid').count()"
   ]
  },
  {
   "cell_type": "code",
   "execution_count": 6,
   "id": "british-criticism",
   "metadata": {},
   "outputs": [],
   "source": [
    "four = four.drop(labels=['case_type','rec_time'],axis=1)"
   ]
  },
  {
   "cell_type": "code",
   "execution_count": 7,
   "id": "continuous-actress",
   "metadata": {},
   "outputs": [
    {
     "data": {
      "text/html": [
       "<div>\n",
       "<style scoped>\n",
       "    .dataframe tbody tr th:only-of-type {\n",
       "        vertical-align: middle;\n",
       "    }\n",
       "\n",
       "    .dataframe tbody tr th {\n",
       "        vertical-align: top;\n",
       "    }\n",
       "\n",
       "    .dataframe thead th {\n",
       "        text-align: right;\n",
       "    }\n",
       "</style>\n",
       "<table border=\"1\" class=\"dataframe\">\n",
       "  <thead>\n",
       "    <tr style=\"text-align: right;\">\n",
       "      <th></th>\n",
       "      <th>rec_date</th>\n",
       "    </tr>\n",
       "    <tr>\n",
       "      <th>gid</th>\n",
       "      <th></th>\n",
       "    </tr>\n",
       "  </thead>\n",
       "  <tbody>\n",
       "    <tr>\n",
       "      <th>마라095998</th>\n",
       "      <td>6</td>\n",
       "    </tr>\n",
       "    <tr>\n",
       "      <th>마라095999</th>\n",
       "      <td>4</td>\n",
       "    </tr>\n",
       "    <tr>\n",
       "      <th>마라096987</th>\n",
       "      <td>7</td>\n",
       "    </tr>\n",
       "    <tr>\n",
       "      <th>마라096988</th>\n",
       "      <td>47</td>\n",
       "    </tr>\n",
       "    <tr>\n",
       "      <th>마라097987</th>\n",
       "      <td>7</td>\n",
       "    </tr>\n",
       "  </tbody>\n",
       "</table>\n",
       "</div>"
      ],
      "text/plain": [
       "          rec_date\n",
       "gid               \n",
       "마라095998         6\n",
       "마라095999         4\n",
       "마라096987         7\n",
       "마라096988        47\n",
       "마라097987         7"
      ]
     },
     "execution_count": 7,
     "metadata": {},
     "output_type": "execute_result"
    }
   ],
   "source": [
    "four.head() # 112신고이력"
   ]
  },
  {
   "cell_type": "code",
   "execution_count": 8,
   "id": "answering-omega",
   "metadata": {},
   "outputs": [],
   "source": [
    "four['four']=four['rec_date']"
   ]
  },
  {
   "cell_type": "code",
   "execution_count": 9,
   "id": "informal-violin",
   "metadata": {},
   "outputs": [],
   "source": [
    "four = four.drop(['rec_date'],axis=1)"
   ]
  },
  {
   "cell_type": "code",
   "execution_count": 10,
   "id": "accessory-perth",
   "metadata": {},
   "outputs": [],
   "source": [
    "six = pd.read_csv('sumin.csv')"
   ]
  },
  {
   "cell_type": "code",
   "execution_count": 11,
   "id": "committed-moldova",
   "metadata": {},
   "outputs": [
    {
     "data": {
      "text/html": [
       "<div>\n",
       "<style scoped>\n",
       "    .dataframe tbody tr th:only-of-type {\n",
       "        vertical-align: middle;\n",
       "    }\n",
       "\n",
       "    .dataframe tbody tr th {\n",
       "        vertical-align: top;\n",
       "    }\n",
       "\n",
       "    .dataframe thead th {\n",
       "        text-align: right;\n",
       "    }\n",
       "</style>\n",
       "<table border=\"1\" class=\"dataframe\">\n",
       "  <thead>\n",
       "    <tr style=\"text-align: right;\">\n",
       "      <th></th>\n",
       "      <th>gid</th>\n",
       "      <th>NUMPOINTS</th>\n",
       "    </tr>\n",
       "  </thead>\n",
       "  <tbody>\n",
       "    <tr>\n",
       "      <th>0</th>\n",
       "      <td>마라231909</td>\n",
       "      <td>2</td>\n",
       "    </tr>\n",
       "    <tr>\n",
       "      <th>1</th>\n",
       "      <td>마라154986</td>\n",
       "      <td>0</td>\n",
       "    </tr>\n",
       "    <tr>\n",
       "      <th>2</th>\n",
       "      <td>마라213944</td>\n",
       "      <td>0</td>\n",
       "    </tr>\n",
       "    <tr>\n",
       "      <th>3</th>\n",
       "      <td>마마105025</td>\n",
       "      <td>0</td>\n",
       "    </tr>\n",
       "    <tr>\n",
       "      <th>4</th>\n",
       "      <td>마라202940</td>\n",
       "      <td>2</td>\n",
       "    </tr>\n",
       "  </tbody>\n",
       "</table>\n",
       "</div>"
      ],
      "text/plain": [
       "        gid  NUMPOINTS\n",
       "0  마라231909          2\n",
       "1  마라154986          0\n",
       "2  마라213944          0\n",
       "3  마마105025          0\n",
       "4  마라202940          2"
      ]
     },
     "execution_count": 11,
     "metadata": {},
     "output_type": "execute_result"
    }
   ],
   "source": [
    "six.head() # 보안등"
   ]
  },
  {
   "cell_type": "code",
   "execution_count": 12,
   "id": "virgin-garbage",
   "metadata": {},
   "outputs": [],
   "source": [
    "six['six']=six['NUMPOINTS']"
   ]
  },
  {
   "cell_type": "code",
   "execution_count": 13,
   "id": "imported-dominican",
   "metadata": {},
   "outputs": [],
   "source": [
    "six = six.drop(['NUMPOINTS'],axis=1)"
   ]
  },
  {
   "cell_type": "code",
   "execution_count": 14,
   "id": "extensive-syndication",
   "metadata": {},
   "outputs": [],
   "source": [
    "seven = pd.read_csv('seven1.csv')"
   ]
  },
  {
   "cell_type": "code",
   "execution_count": 15,
   "id": "guilty-spirit",
   "metadata": {},
   "outputs": [
    {
     "data": {
      "text/html": [
       "<div>\n",
       "<style scoped>\n",
       "    .dataframe tbody tr th:only-of-type {\n",
       "        vertical-align: middle;\n",
       "    }\n",
       "\n",
       "    .dataframe tbody tr th {\n",
       "        vertical-align: top;\n",
       "    }\n",
       "\n",
       "    .dataframe thead th {\n",
       "        text-align: right;\n",
       "    }\n",
       "</style>\n",
       "<table border=\"1\" class=\"dataframe\">\n",
       "  <thead>\n",
       "    <tr style=\"text-align: right;\">\n",
       "      <th></th>\n",
       "      <th>gid</th>\n",
       "      <th>seven</th>\n",
       "    </tr>\n",
       "  </thead>\n",
       "  <tbody>\n",
       "    <tr>\n",
       "      <th>0</th>\n",
       "      <td>마라231909</td>\n",
       "      <td>0</td>\n",
       "    </tr>\n",
       "    <tr>\n",
       "      <th>1</th>\n",
       "      <td>마라154986</td>\n",
       "      <td>0</td>\n",
       "    </tr>\n",
       "    <tr>\n",
       "      <th>2</th>\n",
       "      <td>마라213944</td>\n",
       "      <td>0</td>\n",
       "    </tr>\n",
       "    <tr>\n",
       "      <th>3</th>\n",
       "      <td>마마105025</td>\n",
       "      <td>1</td>\n",
       "    </tr>\n",
       "    <tr>\n",
       "      <th>4</th>\n",
       "      <td>마라202940</td>\n",
       "      <td>0</td>\n",
       "    </tr>\n",
       "  </tbody>\n",
       "</table>\n",
       "</div>"
      ],
      "text/plain": [
       "        gid  seven\n",
       "0  마라231909      0\n",
       "1  마라154986      0\n",
       "2  마라213944      0\n",
       "3  마마105025      1\n",
       "4  마라202940      0"
      ]
     },
     "execution_count": 15,
     "metadata": {},
     "output_type": "execute_result"
    }
   ],
   "source": [
    "seven.head() #안전비상벨"
   ]
  },
  {
   "cell_type": "code",
   "execution_count": 16,
   "id": "hired-completion",
   "metadata": {},
   "outputs": [],
   "source": [
    "ten = gpd.read_file('10.김해시_성연령별_거주인구격자.geojson', encoding='utf-8')"
   ]
  },
  {
   "cell_type": "code",
   "execution_count": 17,
   "id": "numerous-environment",
   "metadata": {},
   "outputs": [
    {
     "data": {
      "text/html": [
       "<div>\n",
       "<style scoped>\n",
       "    .dataframe tbody tr th:only-of-type {\n",
       "        vertical-align: middle;\n",
       "    }\n",
       "\n",
       "    .dataframe tbody tr th {\n",
       "        vertical-align: top;\n",
       "    }\n",
       "\n",
       "    .dataframe thead th {\n",
       "        text-align: right;\n",
       "    }\n",
       "</style>\n",
       "<table border=\"1\" class=\"dataframe\">\n",
       "  <thead>\n",
       "    <tr style=\"text-align: right;\">\n",
       "      <th></th>\n",
       "      <th>gid</th>\n",
       "      <th>2018_m_0g_pop</th>\n",
       "      <th>2018_w_0g_pop</th>\n",
       "      <th>2018_m_20g_pop</th>\n",
       "      <th>2018_w_20g_pop</th>\n",
       "      <th>2018_m_30g_pop</th>\n",
       "      <th>2018_w_30g_pop</th>\n",
       "      <th>2018_m_40g_pop</th>\n",
       "      <th>2018_w_40g_pop</th>\n",
       "      <th>2018_m_50g_pop</th>\n",
       "      <th>...</th>\n",
       "      <th>2021_w_30g_pop</th>\n",
       "      <th>2021_m_40g_pop</th>\n",
       "      <th>2021_w_40g_pop</th>\n",
       "      <th>2021_m_50g_pop</th>\n",
       "      <th>2021_w_50g_pop</th>\n",
       "      <th>2021_m_60g_pop</th>\n",
       "      <th>2021_w_60g_pop</th>\n",
       "      <th>2021_m_70g_pop</th>\n",
       "      <th>2021_w_70g_pop</th>\n",
       "      <th>geometry</th>\n",
       "    </tr>\n",
       "  </thead>\n",
       "  <tbody>\n",
       "    <tr>\n",
       "      <th>0</th>\n",
       "      <td>마라094999</td>\n",
       "      <td>0</td>\n",
       "      <td>0</td>\n",
       "      <td>0</td>\n",
       "      <td>0</td>\n",
       "      <td>0</td>\n",
       "      <td>0</td>\n",
       "      <td>0</td>\n",
       "      <td>0</td>\n",
       "      <td>0</td>\n",
       "      <td>...</td>\n",
       "      <td>0</td>\n",
       "      <td>0</td>\n",
       "      <td>0</td>\n",
       "      <td>0</td>\n",
       "      <td>0</td>\n",
       "      <td>0</td>\n",
       "      <td>0</td>\n",
       "      <td>0</td>\n",
       "      <td>0</td>\n",
       "      <td>POLYGON ((128.70309 35.28863, 128.70311 35.289...</td>\n",
       "    </tr>\n",
       "    <tr>\n",
       "      <th>1</th>\n",
       "      <td>마라095991</td>\n",
       "      <td>0</td>\n",
       "      <td>0</td>\n",
       "      <td>0</td>\n",
       "      <td>0</td>\n",
       "      <td>0</td>\n",
       "      <td>0</td>\n",
       "      <td>0</td>\n",
       "      <td>0</td>\n",
       "      <td>0</td>\n",
       "      <td>...</td>\n",
       "      <td>0</td>\n",
       "      <td>0</td>\n",
       "      <td>0</td>\n",
       "      <td>0</td>\n",
       "      <td>0</td>\n",
       "      <td>0</td>\n",
       "      <td>0</td>\n",
       "      <td>0</td>\n",
       "      <td>0</td>\n",
       "      <td>POLYGON ((128.70409 35.28140, 128.70410 35.282...</td>\n",
       "    </tr>\n",
       "    <tr>\n",
       "      <th>2</th>\n",
       "      <td>마라095992</td>\n",
       "      <td>0</td>\n",
       "      <td>0</td>\n",
       "      <td>0</td>\n",
       "      <td>0</td>\n",
       "      <td>0</td>\n",
       "      <td>0</td>\n",
       "      <td>0</td>\n",
       "      <td>0</td>\n",
       "      <td>0</td>\n",
       "      <td>...</td>\n",
       "      <td>0</td>\n",
       "      <td>0</td>\n",
       "      <td>0</td>\n",
       "      <td>0</td>\n",
       "      <td>0</td>\n",
       "      <td>0</td>\n",
       "      <td>0</td>\n",
       "      <td>0</td>\n",
       "      <td>0</td>\n",
       "      <td>POLYGON ((128.70410 35.28231, 128.70411 35.283...</td>\n",
       "    </tr>\n",
       "    <tr>\n",
       "      <th>3</th>\n",
       "      <td>마라095993</td>\n",
       "      <td>0</td>\n",
       "      <td>0</td>\n",
       "      <td>0</td>\n",
       "      <td>0</td>\n",
       "      <td>0</td>\n",
       "      <td>0</td>\n",
       "      <td>0</td>\n",
       "      <td>0</td>\n",
       "      <td>0</td>\n",
       "      <td>...</td>\n",
       "      <td>0</td>\n",
       "      <td>0</td>\n",
       "      <td>0</td>\n",
       "      <td>0</td>\n",
       "      <td>0</td>\n",
       "      <td>0</td>\n",
       "      <td>0</td>\n",
       "      <td>0</td>\n",
       "      <td>0</td>\n",
       "      <td>POLYGON ((128.70411 35.28321, 128.70413 35.284...</td>\n",
       "    </tr>\n",
       "    <tr>\n",
       "      <th>4</th>\n",
       "      <td>마라095994</td>\n",
       "      <td>0</td>\n",
       "      <td>0</td>\n",
       "      <td>0</td>\n",
       "      <td>0</td>\n",
       "      <td>0</td>\n",
       "      <td>0</td>\n",
       "      <td>0</td>\n",
       "      <td>0</td>\n",
       "      <td>0</td>\n",
       "      <td>...</td>\n",
       "      <td>0</td>\n",
       "      <td>0</td>\n",
       "      <td>0</td>\n",
       "      <td>0</td>\n",
       "      <td>0</td>\n",
       "      <td>0</td>\n",
       "      <td>0</td>\n",
       "      <td>0</td>\n",
       "      <td>0</td>\n",
       "      <td>POLYGON ((128.70413 35.28411, 128.70414 35.285...</td>\n",
       "    </tr>\n",
       "  </tbody>\n",
       "</table>\n",
       "<p>5 rows × 58 columns</p>\n",
       "</div>"
      ],
      "text/plain": [
       "        gid  2018_m_0g_pop  2018_w_0g_pop  2018_m_20g_pop  2018_w_20g_pop  \\\n",
       "0  마라094999              0              0               0               0   \n",
       "1  마라095991              0              0               0               0   \n",
       "2  마라095992              0              0               0               0   \n",
       "3  마라095993              0              0               0               0   \n",
       "4  마라095994              0              0               0               0   \n",
       "\n",
       "   2018_m_30g_pop  2018_w_30g_pop  2018_m_40g_pop  2018_w_40g_pop  \\\n",
       "0               0               0               0               0   \n",
       "1               0               0               0               0   \n",
       "2               0               0               0               0   \n",
       "3               0               0               0               0   \n",
       "4               0               0               0               0   \n",
       "\n",
       "   2018_m_50g_pop  ...  2021_w_30g_pop  2021_m_40g_pop  2021_w_40g_pop  \\\n",
       "0               0  ...               0               0               0   \n",
       "1               0  ...               0               0               0   \n",
       "2               0  ...               0               0               0   \n",
       "3               0  ...               0               0               0   \n",
       "4               0  ...               0               0               0   \n",
       "\n",
       "   2021_m_50g_pop  2021_w_50g_pop  2021_m_60g_pop  2021_w_60g_pop  \\\n",
       "0               0               0               0               0   \n",
       "1               0               0               0               0   \n",
       "2               0               0               0               0   \n",
       "3               0               0               0               0   \n",
       "4               0               0               0               0   \n",
       "\n",
       "   2021_m_70g_pop  2021_w_70g_pop  \\\n",
       "0               0               0   \n",
       "1               0               0   \n",
       "2               0               0   \n",
       "3               0               0   \n",
       "4               0               0   \n",
       "\n",
       "                                            geometry  \n",
       "0  POLYGON ((128.70309 35.28863, 128.70311 35.289...  \n",
       "1  POLYGON ((128.70409 35.28140, 128.70410 35.282...  \n",
       "2  POLYGON ((128.70410 35.28231, 128.70411 35.283...  \n",
       "3  POLYGON ((128.70411 35.28321, 128.70413 35.284...  \n",
       "4  POLYGON ((128.70413 35.28411, 128.70414 35.285...  \n",
       "\n",
       "[5 rows x 58 columns]"
      ]
     },
     "execution_count": 17,
     "metadata": {},
     "output_type": "execute_result"
    }
   ],
   "source": [
    "ten.head()"
   ]
  },
  {
   "cell_type": "code",
   "execution_count": 18,
   "id": "apparent-booth",
   "metadata": {},
   "outputs": [],
   "source": [
    "ten1 = ten[['2018_m_0g_pop','2018_w_0g_pop','2018_m_20g_pop','2018_w_20g_pop','2018_m_30g_pop','2018_w_30g_pop','2018_m_40g_pop','2018_w_40g_pop','2018_m_50g_pop','2018_w_50g_pop','2018_m_60g_pop','2018_w_60g_pop','2018_m_70g_pop','2018_w_70g_pop']]\n",
    "ten2 = ten[['2019_m_0g_pop','2019_w_0g_pop','2019_m_20g_pop','2019_w_20g_pop','2019_m_30g_pop','2019_w_30g_pop','2019_m_40g_pop','2019_w_40g_pop','2019_m_50g_pop','2019_w_50g_pop','2019_m_60g_pop','2019_w_60g_pop','2019_m_70g_pop','2019_w_70g_pop']]\n",
    "ten3 = ten[['2020_m_0g_pop','2020_w_0g_pop','2020_m_20g_pop','2020_w_20g_pop','2020_m_30g_pop','2020_w_30g_pop','2020_m_40g_pop','2020_w_40g_pop','2020_m_50g_pop','2020_w_50g_pop','2020_m_60g_pop','2020_w_60g_pop','2020_m_70g_pop','2020_w_70g_pop']]\n",
    "ten4 = ten[['2021_m_0g_pop','2021_w_0g_pop','2021_m_20g_pop','2021_w_20g_pop','2021_m_30g_pop','2021_w_30g_pop','2021_m_40g_pop','2021_w_40g_pop','2021_m_50g_pop','2021_w_50g_pop','2021_m_60g_pop','2021_w_60g_pop','2021_m_70g_pop','2021_w_70g_pop']]"
   ]
  },
  {
   "cell_type": "code",
   "execution_count": 19,
   "id": "bridal-china",
   "metadata": {},
   "outputs": [],
   "source": [
    "ten = ten.drop(['2018_m_0g_pop','2018_w_0g_pop','2018_m_20g_pop','2018_w_20g_pop','2018_m_30g_pop','2018_w_30g_pop','2018_m_40g_pop','2018_w_40g_pop','2018_m_50g_pop','2018_w_50g_pop','2018_m_60g_pop','2018_w_60g_pop','2018_m_70g_pop','2018_w_70g_pop','2019_m_0g_pop','2019_w_0g_pop','2019_m_20g_pop','2019_w_20g_pop','2019_m_30g_pop','2019_w_30g_pop','2019_m_40g_pop','2019_w_40g_pop','2019_m_50g_pop','2019_w_50g_pop','2019_m_60g_pop','2019_w_60g_pop','2019_m_70g_pop','2019_w_70g_pop','2020_m_0g_pop','2020_w_0g_pop','2020_m_20g_pop','2020_w_20g_pop','2020_m_30g_pop','2020_w_30g_pop','2020_m_40g_pop','2020_w_40g_pop','2020_m_50g_pop','2020_w_50g_pop','2020_m_60g_pop','2020_w_60g_pop','2020_m_70g_pop','2020_w_70g_pop','2021_m_0g_pop','2021_w_0g_pop','2021_m_20g_pop','2021_w_20g_pop','2021_m_30g_pop','2021_w_30g_pop','2021_m_40g_pop','2021_w_40g_pop','2021_m_50g_pop','2021_w_50g_pop','2021_m_60g_pop','2021_w_60g_pop','2021_m_70g_pop','2021_w_70g_pop'], axis=1)"
   ]
  },
  {
   "cell_type": "code",
   "execution_count": 20,
   "id": "labeled-mountain",
   "metadata": {},
   "outputs": [],
   "source": [
    "ten['2018']=ten1.sum(axis=1)\n",
    "ten['2019']=ten2.sum(axis=1)\n",
    "ten['2020']=ten3.sum(axis=1)\n",
    "ten['2021']=ten4.sum(axis=1)"
   ]
  },
  {
   "cell_type": "code",
   "execution_count": 21,
   "id": "mounted-cancellation",
   "metadata": {},
   "outputs": [
    {
     "data": {
      "text/html": [
       "<div>\n",
       "<style scoped>\n",
       "    .dataframe tbody tr th:only-of-type {\n",
       "        vertical-align: middle;\n",
       "    }\n",
       "\n",
       "    .dataframe tbody tr th {\n",
       "        vertical-align: top;\n",
       "    }\n",
       "\n",
       "    .dataframe thead th {\n",
       "        text-align: right;\n",
       "    }\n",
       "</style>\n",
       "<table border=\"1\" class=\"dataframe\">\n",
       "  <thead>\n",
       "    <tr style=\"text-align: right;\">\n",
       "      <th></th>\n",
       "      <th>gid</th>\n",
       "      <th>geometry</th>\n",
       "      <th>2018</th>\n",
       "      <th>2019</th>\n",
       "      <th>2020</th>\n",
       "      <th>2021</th>\n",
       "    </tr>\n",
       "  </thead>\n",
       "  <tbody>\n",
       "    <tr>\n",
       "      <th>0</th>\n",
       "      <td>마라094999</td>\n",
       "      <td>POLYGON ((128.70309 35.28863, 128.70311 35.289...</td>\n",
       "      <td>0</td>\n",
       "      <td>0</td>\n",
       "      <td>0</td>\n",
       "      <td>0</td>\n",
       "    </tr>\n",
       "    <tr>\n",
       "      <th>1</th>\n",
       "      <td>마라095991</td>\n",
       "      <td>POLYGON ((128.70409 35.28140, 128.70410 35.282...</td>\n",
       "      <td>0</td>\n",
       "      <td>0</td>\n",
       "      <td>0</td>\n",
       "      <td>0</td>\n",
       "    </tr>\n",
       "    <tr>\n",
       "      <th>2</th>\n",
       "      <td>마라095992</td>\n",
       "      <td>POLYGON ((128.70410 35.28231, 128.70411 35.283...</td>\n",
       "      <td>0</td>\n",
       "      <td>0</td>\n",
       "      <td>0</td>\n",
       "      <td>0</td>\n",
       "    </tr>\n",
       "    <tr>\n",
       "      <th>3</th>\n",
       "      <td>마라095993</td>\n",
       "      <td>POLYGON ((128.70411 35.28321, 128.70413 35.284...</td>\n",
       "      <td>0</td>\n",
       "      <td>0</td>\n",
       "      <td>0</td>\n",
       "      <td>0</td>\n",
       "    </tr>\n",
       "    <tr>\n",
       "      <th>4</th>\n",
       "      <td>마라095994</td>\n",
       "      <td>POLYGON ((128.70413 35.28411, 128.70414 35.285...</td>\n",
       "      <td>0</td>\n",
       "      <td>0</td>\n",
       "      <td>0</td>\n",
       "      <td>0</td>\n",
       "    </tr>\n",
       "  </tbody>\n",
       "</table>\n",
       "</div>"
      ],
      "text/plain": [
       "        gid                                           geometry  2018  2019  \\\n",
       "0  마라094999  POLYGON ((128.70309 35.28863, 128.70311 35.289...     0     0   \n",
       "1  마라095991  POLYGON ((128.70409 35.28140, 128.70410 35.282...     0     0   \n",
       "2  마라095992  POLYGON ((128.70410 35.28231, 128.70411 35.283...     0     0   \n",
       "3  마라095993  POLYGON ((128.70411 35.28321, 128.70413 35.284...     0     0   \n",
       "4  마라095994  POLYGON ((128.70413 35.28411, 128.70414 35.285...     0     0   \n",
       "\n",
       "   2020  2021  \n",
       "0     0     0  \n",
       "1     0     0  \n",
       "2     0     0  \n",
       "3     0     0  \n",
       "4     0     0  "
      ]
     },
     "execution_count": 21,
     "metadata": {},
     "output_type": "execute_result"
    }
   ],
   "source": [
    "ten.head() # 인구"
   ]
  },
  {
   "cell_type": "code",
   "execution_count": 22,
   "id": "unnecessary-tactics",
   "metadata": {},
   "outputs": [],
   "source": [
    "ten = ten.drop(['geometry'],axis=1)"
   ]
  },
  {
   "cell_type": "code",
   "execution_count": 23,
   "id": "boolean-sitting",
   "metadata": {},
   "outputs": [],
   "source": [
    "seventeen = pd.read_csv('seventeen.csv')"
   ]
  },
  {
   "cell_type": "code",
   "execution_count": 24,
   "id": "stock-movement",
   "metadata": {},
   "outputs": [
    {
     "data": {
      "text/html": [
       "<div>\n",
       "<style scoped>\n",
       "    .dataframe tbody tr th:only-of-type {\n",
       "        vertical-align: middle;\n",
       "    }\n",
       "\n",
       "    .dataframe tbody tr th {\n",
       "        vertical-align: top;\n",
       "    }\n",
       "\n",
       "    .dataframe thead th {\n",
       "        text-align: right;\n",
       "    }\n",
       "</style>\n",
       "<table border=\"1\" class=\"dataframe\">\n",
       "  <thead>\n",
       "    <tr style=\"text-align: right;\">\n",
       "      <th></th>\n",
       "      <th>gid</th>\n",
       "      <th>seventeen</th>\n",
       "    </tr>\n",
       "  </thead>\n",
       "  <tbody>\n",
       "    <tr>\n",
       "      <th>0</th>\n",
       "      <td>마라231909</td>\n",
       "      <td>0</td>\n",
       "    </tr>\n",
       "    <tr>\n",
       "      <th>1</th>\n",
       "      <td>마라154986</td>\n",
       "      <td>0</td>\n",
       "    </tr>\n",
       "    <tr>\n",
       "      <th>2</th>\n",
       "      <td>마라213944</td>\n",
       "      <td>0</td>\n",
       "    </tr>\n",
       "    <tr>\n",
       "      <th>3</th>\n",
       "      <td>마마105025</td>\n",
       "      <td>0</td>\n",
       "    </tr>\n",
       "    <tr>\n",
       "      <th>4</th>\n",
       "      <td>마라202940</td>\n",
       "      <td>0</td>\n",
       "    </tr>\n",
       "  </tbody>\n",
       "</table>\n",
       "</div>"
      ],
      "text/plain": [
       "        gid  seventeen\n",
       "0  마라231909          0\n",
       "1  마라154986          0\n",
       "2  마라213944          0\n",
       "3  마마105025          0\n",
       "4  마라202940          0"
      ]
     },
     "execution_count": 24,
     "metadata": {},
     "output_type": "execute_result"
    }
   ],
   "source": [
    "seventeen.head() # 어린이집"
   ]
  },
  {
   "cell_type": "code",
   "execution_count": 25,
   "id": "million-identification",
   "metadata": {},
   "outputs": [],
   "source": [
    "eighteen = pd.read_csv('eighteen.csv')"
   ]
  },
  {
   "cell_type": "code",
   "execution_count": 26,
   "id": "cutting-rolling",
   "metadata": {},
   "outputs": [
    {
     "data": {
      "text/html": [
       "<div>\n",
       "<style scoped>\n",
       "    .dataframe tbody tr th:only-of-type {\n",
       "        vertical-align: middle;\n",
       "    }\n",
       "\n",
       "    .dataframe tbody tr th {\n",
       "        vertical-align: top;\n",
       "    }\n",
       "\n",
       "    .dataframe thead th {\n",
       "        text-align: right;\n",
       "    }\n",
       "</style>\n",
       "<table border=\"1\" class=\"dataframe\">\n",
       "  <thead>\n",
       "    <tr style=\"text-align: right;\">\n",
       "      <th></th>\n",
       "      <th>gid</th>\n",
       "      <th>eighteen</th>\n",
       "    </tr>\n",
       "  </thead>\n",
       "  <tbody>\n",
       "    <tr>\n",
       "      <th>0</th>\n",
       "      <td>마라231909</td>\n",
       "      <td>0</td>\n",
       "    </tr>\n",
       "    <tr>\n",
       "      <th>1</th>\n",
       "      <td>마라154986</td>\n",
       "      <td>0</td>\n",
       "    </tr>\n",
       "    <tr>\n",
       "      <th>2</th>\n",
       "      <td>마라213944</td>\n",
       "      <td>0</td>\n",
       "    </tr>\n",
       "    <tr>\n",
       "      <th>3</th>\n",
       "      <td>마마105025</td>\n",
       "      <td>0</td>\n",
       "    </tr>\n",
       "    <tr>\n",
       "      <th>4</th>\n",
       "      <td>마라202940</td>\n",
       "      <td>0</td>\n",
       "    </tr>\n",
       "  </tbody>\n",
       "</table>\n",
       "</div>"
      ],
      "text/plain": [
       "        gid  eighteen\n",
       "0  마라231909         0\n",
       "1  마라154986         0\n",
       "2  마라213944         0\n",
       "3  마마105025         0\n",
       "4  마라202940         0"
      ]
     },
     "execution_count": 26,
     "metadata": {},
     "output_type": "execute_result"
    }
   ],
   "source": [
    "eighteen.head() # 유치원"
   ]
  },
  {
   "cell_type": "code",
   "execution_count": 27,
   "id": "extensive-brown",
   "metadata": {},
   "outputs": [],
   "source": [
    "nineteen = pd.read_csv('nineteen.csv')"
   ]
  },
  {
   "cell_type": "code",
   "execution_count": 28,
   "id": "regulation-corps",
   "metadata": {},
   "outputs": [
    {
     "data": {
      "text/html": [
       "<div>\n",
       "<style scoped>\n",
       "    .dataframe tbody tr th:only-of-type {\n",
       "        vertical-align: middle;\n",
       "    }\n",
       "\n",
       "    .dataframe tbody tr th {\n",
       "        vertical-align: top;\n",
       "    }\n",
       "\n",
       "    .dataframe thead th {\n",
       "        text-align: right;\n",
       "    }\n",
       "</style>\n",
       "<table border=\"1\" class=\"dataframe\">\n",
       "  <thead>\n",
       "    <tr style=\"text-align: right;\">\n",
       "      <th></th>\n",
       "      <th>gid</th>\n",
       "      <th>nineteen</th>\n",
       "    </tr>\n",
       "  </thead>\n",
       "  <tbody>\n",
       "    <tr>\n",
       "      <th>0</th>\n",
       "      <td>마라231909</td>\n",
       "      <td>0</td>\n",
       "    </tr>\n",
       "    <tr>\n",
       "      <th>1</th>\n",
       "      <td>마라154986</td>\n",
       "      <td>0</td>\n",
       "    </tr>\n",
       "    <tr>\n",
       "      <th>2</th>\n",
       "      <td>마라213944</td>\n",
       "      <td>0</td>\n",
       "    </tr>\n",
       "    <tr>\n",
       "      <th>3</th>\n",
       "      <td>마마105025</td>\n",
       "      <td>0</td>\n",
       "    </tr>\n",
       "    <tr>\n",
       "      <th>4</th>\n",
       "      <td>마라202940</td>\n",
       "      <td>0</td>\n",
       "    </tr>\n",
       "  </tbody>\n",
       "</table>\n",
       "</div>"
      ],
      "text/plain": [
       "        gid  nineteen\n",
       "0  마라231909         0\n",
       "1  마라154986         0\n",
       "2  마라213944         0\n",
       "3  마마105025         0\n",
       "4  마라202940         0"
      ]
     },
     "execution_count": 28,
     "metadata": {},
     "output_type": "execute_result"
    }
   ],
   "source": [
    "nineteen.head() # 학교(초,중,고)"
   ]
  },
  {
   "cell_type": "code",
   "execution_count": 29,
   "id": "packed-olive",
   "metadata": {},
   "outputs": [],
   "source": [
    "twenty = pd.read_csv('twenty1.csv')"
   ]
  },
  {
   "cell_type": "code",
   "execution_count": 30,
   "id": "cardiac-covering",
   "metadata": {},
   "outputs": [
    {
     "data": {
      "text/html": [
       "<div>\n",
       "<style scoped>\n",
       "    .dataframe tbody tr th:only-of-type {\n",
       "        vertical-align: middle;\n",
       "    }\n",
       "\n",
       "    .dataframe tbody tr th {\n",
       "        vertical-align: top;\n",
       "    }\n",
       "\n",
       "    .dataframe thead th {\n",
       "        text-align: right;\n",
       "    }\n",
       "</style>\n",
       "<table border=\"1\" class=\"dataframe\">\n",
       "  <thead>\n",
       "    <tr style=\"text-align: right;\">\n",
       "      <th></th>\n",
       "      <th>gid</th>\n",
       "      <th>NUMPOINTS</th>\n",
       "    </tr>\n",
       "  </thead>\n",
       "  <tbody>\n",
       "    <tr>\n",
       "      <th>0</th>\n",
       "      <td>마라231909</td>\n",
       "      <td>0</td>\n",
       "    </tr>\n",
       "    <tr>\n",
       "      <th>1</th>\n",
       "      <td>마라154986</td>\n",
       "      <td>0</td>\n",
       "    </tr>\n",
       "    <tr>\n",
       "      <th>2</th>\n",
       "      <td>마라213944</td>\n",
       "      <td>0</td>\n",
       "    </tr>\n",
       "    <tr>\n",
       "      <th>3</th>\n",
       "      <td>마마105025</td>\n",
       "      <td>0</td>\n",
       "    </tr>\n",
       "    <tr>\n",
       "      <th>4</th>\n",
       "      <td>마라202940</td>\n",
       "      <td>1</td>\n",
       "    </tr>\n",
       "  </tbody>\n",
       "</table>\n",
       "</div>"
      ],
      "text/plain": [
       "        gid  NUMPOINTS\n",
       "0  마라231909          0\n",
       "1  마라154986          0\n",
       "2  마라213944          0\n",
       "3  마마105025          0\n",
       "4  마라202940          1"
      ]
     },
     "execution_count": 30,
     "metadata": {},
     "output_type": "execute_result"
    }
   ],
   "source": [
    "twenty.head() # 치안유관업종"
   ]
  },
  {
   "cell_type": "code",
   "execution_count": 31,
   "id": "brazilian-management",
   "metadata": {},
   "outputs": [],
   "source": [
    "twenty['twenty']=twenty['NUMPOINTS']"
   ]
  },
  {
   "cell_type": "code",
   "execution_count": 32,
   "id": "other-colors",
   "metadata": {},
   "outputs": [],
   "source": [
    "twenty = twenty.drop(['NUMPOINTS'],axis=1)"
   ]
  },
  {
   "cell_type": "code",
   "execution_count": 33,
   "id": "fifth-favor",
   "metadata": {},
   "outputs": [],
   "source": [
    "twentyone = pd.read_csv('twentyone.csv')"
   ]
  },
  {
   "cell_type": "code",
   "execution_count": 34,
   "id": "victorian-spray",
   "metadata": {},
   "outputs": [
    {
     "data": {
      "text/html": [
       "<div>\n",
       "<style scoped>\n",
       "    .dataframe tbody tr th:only-of-type {\n",
       "        vertical-align: middle;\n",
       "    }\n",
       "\n",
       "    .dataframe tbody tr th {\n",
       "        vertical-align: top;\n",
       "    }\n",
       "\n",
       "    .dataframe thead th {\n",
       "        text-align: right;\n",
       "    }\n",
       "</style>\n",
       "<table border=\"1\" class=\"dataframe\">\n",
       "  <thead>\n",
       "    <tr style=\"text-align: right;\">\n",
       "      <th></th>\n",
       "      <th>gid</th>\n",
       "      <th>twentyone</th>\n",
       "    </tr>\n",
       "  </thead>\n",
       "  <tbody>\n",
       "    <tr>\n",
       "      <th>0</th>\n",
       "      <td>마라231909</td>\n",
       "      <td>0</td>\n",
       "    </tr>\n",
       "    <tr>\n",
       "      <th>1</th>\n",
       "      <td>마라154986</td>\n",
       "      <td>0</td>\n",
       "    </tr>\n",
       "    <tr>\n",
       "      <th>2</th>\n",
       "      <td>마라213944</td>\n",
       "      <td>0</td>\n",
       "    </tr>\n",
       "    <tr>\n",
       "      <th>3</th>\n",
       "      <td>마마105025</td>\n",
       "      <td>0</td>\n",
       "    </tr>\n",
       "    <tr>\n",
       "      <th>4</th>\n",
       "      <td>마라202940</td>\n",
       "      <td>0</td>\n",
       "    </tr>\n",
       "  </tbody>\n",
       "</table>\n",
       "</div>"
      ],
      "text/plain": [
       "        gid  twentyone\n",
       "0  마라231909          0\n",
       "1  마라154986          0\n",
       "2  마라213944          0\n",
       "3  마마105025          0\n",
       "4  마라202940          0"
      ]
     },
     "execution_count": 34,
     "metadata": {},
     "output_type": "execute_result"
    }
   ],
   "source": [
    "twentyone.head() # 아동안전지킴이집"
   ]
  },
  {
   "cell_type": "code",
   "execution_count": 35,
   "id": "welcome-resident",
   "metadata": {},
   "outputs": [],
   "source": [
    "five = gpd.read_file('5.김해시_격자(100X100).geojson', encoding='utf-8')"
   ]
  },
  {
   "cell_type": "code",
   "execution_count": 36,
   "id": "neither-color",
   "metadata": {},
   "outputs": [],
   "source": [
    "result = pd.merge(five, four, on=\"gid\",how=\"left\")"
   ]
  },
  {
   "cell_type": "code",
   "execution_count": 37,
   "id": "hybrid-decimal",
   "metadata": {},
   "outputs": [],
   "source": [
    "result = pd.merge(result, six, on=\"gid\",how=\"left\")"
   ]
  },
  {
   "cell_type": "code",
   "execution_count": 38,
   "id": "coated-correspondence",
   "metadata": {},
   "outputs": [],
   "source": [
    "result = pd.merge(result, seven, on=\"gid\",how=\"left\")"
   ]
  },
  {
   "cell_type": "code",
   "execution_count": 39,
   "id": "statewide-watch",
   "metadata": {},
   "outputs": [],
   "source": [
    "result = pd.merge(result, ten, on=\"gid\",how=\"left\")"
   ]
  },
  {
   "cell_type": "code",
   "execution_count": 40,
   "id": "manual-cattle",
   "metadata": {},
   "outputs": [],
   "source": [
    "result = pd.merge(result, seventeen, on=\"gid\",how=\"left\")"
   ]
  },
  {
   "cell_type": "code",
   "execution_count": 41,
   "id": "decimal-sailing",
   "metadata": {},
   "outputs": [],
   "source": [
    "result = pd.merge(result, eighteen, on=\"gid\",how=\"left\")"
   ]
  },
  {
   "cell_type": "code",
   "execution_count": 42,
   "id": "headed-canal",
   "metadata": {},
   "outputs": [],
   "source": [
    "result = pd.merge(result, nineteen, on=\"gid\",how=\"left\")"
   ]
  },
  {
   "cell_type": "code",
   "execution_count": 43,
   "id": "particular-innocent",
   "metadata": {},
   "outputs": [],
   "source": [
    "result = pd.merge(result, twenty, on=\"gid\",how=\"left\")"
   ]
  },
  {
   "cell_type": "code",
   "execution_count": 44,
   "id": "considerable-distributor",
   "metadata": {},
   "outputs": [],
   "source": [
    "result = pd.merge(result, twentyone, on=\"gid\",how=\"left\")"
   ]
  },
  {
   "cell_type": "code",
   "execution_count": 45,
   "id": "working-conversion",
   "metadata": {
    "scrolled": true
   },
   "outputs": [
    {
     "data": {
      "text/html": [
       "<div>\n",
       "<style scoped>\n",
       "    .dataframe tbody tr th:only-of-type {\n",
       "        vertical-align: middle;\n",
       "    }\n",
       "\n",
       "    .dataframe tbody tr th {\n",
       "        vertical-align: top;\n",
       "    }\n",
       "\n",
       "    .dataframe thead th {\n",
       "        text-align: right;\n",
       "    }\n",
       "</style>\n",
       "<table border=\"1\" class=\"dataframe\">\n",
       "  <thead>\n",
       "    <tr style=\"text-align: right;\">\n",
       "      <th></th>\n",
       "      <th>gid</th>\n",
       "      <th>geometry</th>\n",
       "      <th>four</th>\n",
       "      <th>six</th>\n",
       "      <th>seven</th>\n",
       "      <th>2018</th>\n",
       "      <th>2019</th>\n",
       "      <th>2020</th>\n",
       "      <th>2021</th>\n",
       "      <th>seventeen</th>\n",
       "      <th>eighteen</th>\n",
       "      <th>nineteen</th>\n",
       "      <th>twenty</th>\n",
       "      <th>twentyone</th>\n",
       "    </tr>\n",
       "  </thead>\n",
       "  <tbody>\n",
       "    <tr>\n",
       "      <th>0</th>\n",
       "      <td>마라231909</td>\n",
       "      <td>MULTIPOLYGON (((128.85237 35.20590, 128.85239 ...</td>\n",
       "      <td>10.0</td>\n",
       "      <td>2</td>\n",
       "      <td>0</td>\n",
       "      <td>0</td>\n",
       "      <td>0</td>\n",
       "      <td>0</td>\n",
       "      <td>0</td>\n",
       "      <td>0</td>\n",
       "      <td>0</td>\n",
       "      <td>0</td>\n",
       "      <td>0</td>\n",
       "      <td>0</td>\n",
       "    </tr>\n",
       "    <tr>\n",
       "      <th>1</th>\n",
       "      <td>마라154986</td>\n",
       "      <td>MULTIPOLYGON (((128.76888 35.27623, 128.76889 ...</td>\n",
       "      <td>NaN</td>\n",
       "      <td>0</td>\n",
       "      <td>0</td>\n",
       "      <td>0</td>\n",
       "      <td>0</td>\n",
       "      <td>0</td>\n",
       "      <td>0</td>\n",
       "      <td>0</td>\n",
       "      <td>0</td>\n",
       "      <td>0</td>\n",
       "      <td>0</td>\n",
       "      <td>0</td>\n",
       "    </tr>\n",
       "    <tr>\n",
       "      <th>2</th>\n",
       "      <td>마라213944</td>\n",
       "      <td>MULTIPOLYGON (((128.83312 35.23767, 128.83313 ...</td>\n",
       "      <td>9.0</td>\n",
       "      <td>0</td>\n",
       "      <td>0</td>\n",
       "      <td>0</td>\n",
       "      <td>0</td>\n",
       "      <td>0</td>\n",
       "      <td>0</td>\n",
       "      <td>0</td>\n",
       "      <td>0</td>\n",
       "      <td>0</td>\n",
       "      <td>0</td>\n",
       "      <td>0</td>\n",
       "    </tr>\n",
       "    <tr>\n",
       "      <th>3</th>\n",
       "      <td>마마105025</td>\n",
       "      <td>MULTIPOLYGON (((128.71554 35.31194, 128.71555 ...</td>\n",
       "      <td>NaN</td>\n",
       "      <td>0</td>\n",
       "      <td>1</td>\n",
       "      <td>0</td>\n",
       "      <td>0</td>\n",
       "      <td>0</td>\n",
       "      <td>0</td>\n",
       "      <td>0</td>\n",
       "      <td>0</td>\n",
       "      <td>0</td>\n",
       "      <td>0</td>\n",
       "      <td>0</td>\n",
       "    </tr>\n",
       "    <tr>\n",
       "      <th>4</th>\n",
       "      <td>마라202940</td>\n",
       "      <td>MULTIPOLYGON (((128.82097 35.23420, 128.82099 ...</td>\n",
       "      <td>48.0</td>\n",
       "      <td>2</td>\n",
       "      <td>0</td>\n",
       "      <td>0</td>\n",
       "      <td>0</td>\n",
       "      <td>0</td>\n",
       "      <td>0</td>\n",
       "      <td>0</td>\n",
       "      <td>0</td>\n",
       "      <td>0</td>\n",
       "      <td>1</td>\n",
       "      <td>0</td>\n",
       "    </tr>\n",
       "  </tbody>\n",
       "</table>\n",
       "</div>"
      ],
      "text/plain": [
       "        gid                                           geometry  four  six  \\\n",
       "0  마라231909  MULTIPOLYGON (((128.85237 35.20590, 128.85239 ...  10.0    2   \n",
       "1  마라154986  MULTIPOLYGON (((128.76888 35.27623, 128.76889 ...   NaN    0   \n",
       "2  마라213944  MULTIPOLYGON (((128.83312 35.23767, 128.83313 ...   9.0    0   \n",
       "3  마마105025  MULTIPOLYGON (((128.71554 35.31194, 128.71555 ...   NaN    0   \n",
       "4  마라202940  MULTIPOLYGON (((128.82097 35.23420, 128.82099 ...  48.0    2   \n",
       "\n",
       "   seven  2018  2019  2020  2021  seventeen  eighteen  nineteen  twenty  \\\n",
       "0      0     0     0     0     0          0         0         0       0   \n",
       "1      0     0     0     0     0          0         0         0       0   \n",
       "2      0     0     0     0     0          0         0         0       0   \n",
       "3      1     0     0     0     0          0         0         0       0   \n",
       "4      0     0     0     0     0          0         0         0       1   \n",
       "\n",
       "   twentyone  \n",
       "0          0  \n",
       "1          0  \n",
       "2          0  \n",
       "3          0  \n",
       "4          0  "
      ]
     },
     "execution_count": 45,
     "metadata": {},
     "output_type": "execute_result"
    }
   ],
   "source": [
    "result.head()"
   ]
  },
  {
   "cell_type": "code",
   "execution_count": 100,
   "id": "acute-ozone",
   "metadata": {},
   "outputs": [],
   "source": [
    "result.to_csv('result.csv',index=False)"
   ]
  },
  {
   "cell_type": "code",
   "execution_count": 46,
   "id": "conventional-insider",
   "metadata": {},
   "outputs": [],
   "source": [
    "cctv = pd.read_csv('cctv3.csv')"
   ]
  },
  {
   "cell_type": "code",
   "execution_count": 47,
   "id": "boring-saturday",
   "metadata": {
    "scrolled": true
   },
   "outputs": [
    {
     "data": {
      "text/html": [
       "<div>\n",
       "<style scoped>\n",
       "    .dataframe tbody tr th:only-of-type {\n",
       "        vertical-align: middle;\n",
       "    }\n",
       "\n",
       "    .dataframe tbody tr th {\n",
       "        vertical-align: top;\n",
       "    }\n",
       "\n",
       "    .dataframe thead th {\n",
       "        text-align: right;\n",
       "    }\n",
       "</style>\n",
       "<table border=\"1\" class=\"dataframe\">\n",
       "  <thead>\n",
       "    <tr style=\"text-align: right;\">\n",
       "      <th></th>\n",
       "      <th>gid</th>\n",
       "      <th>cctv</th>\n",
       "    </tr>\n",
       "  </thead>\n",
       "  <tbody>\n",
       "    <tr>\n",
       "      <th>0</th>\n",
       "      <td>마라231909</td>\n",
       "      <td>0</td>\n",
       "    </tr>\n",
       "    <tr>\n",
       "      <th>1</th>\n",
       "      <td>마라154986</td>\n",
       "      <td>0</td>\n",
       "    </tr>\n",
       "    <tr>\n",
       "      <th>2</th>\n",
       "      <td>마라213944</td>\n",
       "      <td>0</td>\n",
       "    </tr>\n",
       "    <tr>\n",
       "      <th>3</th>\n",
       "      <td>마마105025</td>\n",
       "      <td>3</td>\n",
       "    </tr>\n",
       "    <tr>\n",
       "      <th>4</th>\n",
       "      <td>마라202940</td>\n",
       "      <td>0</td>\n",
       "    </tr>\n",
       "  </tbody>\n",
       "</table>\n",
       "</div>"
      ],
      "text/plain": [
       "        gid  cctv\n",
       "0  마라231909     0\n",
       "1  마라154986     0\n",
       "2  마라213944     0\n",
       "3  마마105025     3\n",
       "4  마라202940     0"
      ]
     },
     "execution_count": 47,
     "metadata": {},
     "output_type": "execute_result"
    }
   ],
   "source": [
    "cctv.head()"
   ]
  },
  {
   "cell_type": "code",
   "execution_count": 48,
   "id": "resident-clearance",
   "metadata": {},
   "outputs": [],
   "source": [
    "two = pd.read_csv('two.csv')"
   ]
  },
  {
   "cell_type": "code",
   "execution_count": 59,
   "id": "vanilla-dancing",
   "metadata": {
    "scrolled": true
   },
   "outputs": [
    {
     "data": {
      "text/html": [
       "<div>\n",
       "<style scoped>\n",
       "    .dataframe tbody tr th:only-of-type {\n",
       "        vertical-align: middle;\n",
       "    }\n",
       "\n",
       "    .dataframe tbody tr th {\n",
       "        vertical-align: top;\n",
       "    }\n",
       "\n",
       "    .dataframe thead th {\n",
       "        text-align: right;\n",
       "    }\n",
       "</style>\n",
       "<table border=\"1\" class=\"dataframe\">\n",
       "  <thead>\n",
       "    <tr style=\"text-align: right;\">\n",
       "      <th></th>\n",
       "      <th>gid</th>\n",
       "      <th>two</th>\n",
       "    </tr>\n",
       "  </thead>\n",
       "  <tbody>\n",
       "    <tr>\n",
       "      <th>0</th>\n",
       "      <td>마라231909</td>\n",
       "      <td>0</td>\n",
       "    </tr>\n",
       "    <tr>\n",
       "      <th>1</th>\n",
       "      <td>마라154986</td>\n",
       "      <td>0</td>\n",
       "    </tr>\n",
       "    <tr>\n",
       "      <th>2</th>\n",
       "      <td>마라213944</td>\n",
       "      <td>0</td>\n",
       "    </tr>\n",
       "    <tr>\n",
       "      <th>3</th>\n",
       "      <td>마마105025</td>\n",
       "      <td>0</td>\n",
       "    </tr>\n",
       "    <tr>\n",
       "      <th>4</th>\n",
       "      <td>마라202940</td>\n",
       "      <td>0</td>\n",
       "    </tr>\n",
       "  </tbody>\n",
       "</table>\n",
       "</div>"
      ],
      "text/plain": [
       "        gid  two\n",
       "0  마라231909    0\n",
       "1  마라154986    0\n",
       "2  마라213944    0\n",
       "3  마마105025    0\n",
       "4  마라202940    0"
      ]
     },
     "execution_count": 59,
     "metadata": {},
     "output_type": "execute_result"
    }
   ],
   "source": [
    "two.head() #주차장"
   ]
  },
  {
   "cell_type": "code",
   "execution_count": 50,
   "id": "surgical-madness",
   "metadata": {},
   "outputs": [],
   "source": [
    "two['two']=two['five']"
   ]
  },
  {
   "cell_type": "code",
   "execution_count": 51,
   "id": "hispanic-lesbian",
   "metadata": {},
   "outputs": [],
   "source": [
    "two = two.drop(['five'],axis=1) "
   ]
  },
  {
   "cell_type": "code",
   "execution_count": 53,
   "id": "changed-watts",
   "metadata": {},
   "outputs": [],
   "source": [
    "result = pd.merge(result, two, on=\"gid\",how=\"left\")"
   ]
  },
  {
   "cell_type": "code",
   "execution_count": 54,
   "id": "demographic-transition",
   "metadata": {},
   "outputs": [],
   "source": [
    "result = pd.merge(result, cctv, on=\"gid\",how=\"left\")"
   ]
  },
  {
   "cell_type": "code",
   "execution_count": 60,
   "id": "native-assessment",
   "metadata": {},
   "outputs": [
    {
     "data": {
      "text/html": [
       "<div>\n",
       "<style scoped>\n",
       "    .dataframe tbody tr th:only-of-type {\n",
       "        vertical-align: middle;\n",
       "    }\n",
       "\n",
       "    .dataframe tbody tr th {\n",
       "        vertical-align: top;\n",
       "    }\n",
       "\n",
       "    .dataframe thead th {\n",
       "        text-align: right;\n",
       "    }\n",
       "</style>\n",
       "<table border=\"1\" class=\"dataframe\">\n",
       "  <thead>\n",
       "    <tr style=\"text-align: right;\">\n",
       "      <th></th>\n",
       "      <th>gid</th>\n",
       "      <th>geometry</th>\n",
       "      <th>four</th>\n",
       "      <th>six</th>\n",
       "      <th>seven</th>\n",
       "      <th>2018</th>\n",
       "      <th>2019</th>\n",
       "      <th>2020</th>\n",
       "      <th>2021</th>\n",
       "      <th>seventeen</th>\n",
       "      <th>eighteen</th>\n",
       "      <th>nineteen</th>\n",
       "      <th>twenty</th>\n",
       "      <th>twentyone</th>\n",
       "      <th>two</th>\n",
       "      <th>cctv</th>\n",
       "    </tr>\n",
       "  </thead>\n",
       "  <tbody>\n",
       "    <tr>\n",
       "      <th>0</th>\n",
       "      <td>마라231909</td>\n",
       "      <td>MULTIPOLYGON (((128.85237 35.20590, 128.85239 ...</td>\n",
       "      <td>10.0</td>\n",
       "      <td>2</td>\n",
       "      <td>0</td>\n",
       "      <td>0</td>\n",
       "      <td>0</td>\n",
       "      <td>0</td>\n",
       "      <td>0</td>\n",
       "      <td>0</td>\n",
       "      <td>0</td>\n",
       "      <td>0</td>\n",
       "      <td>0</td>\n",
       "      <td>0</td>\n",
       "      <td>0</td>\n",
       "      <td>0</td>\n",
       "    </tr>\n",
       "    <tr>\n",
       "      <th>1</th>\n",
       "      <td>마라154986</td>\n",
       "      <td>MULTIPOLYGON (((128.76888 35.27623, 128.76889 ...</td>\n",
       "      <td>0.0</td>\n",
       "      <td>0</td>\n",
       "      <td>0</td>\n",
       "      <td>0</td>\n",
       "      <td>0</td>\n",
       "      <td>0</td>\n",
       "      <td>0</td>\n",
       "      <td>0</td>\n",
       "      <td>0</td>\n",
       "      <td>0</td>\n",
       "      <td>0</td>\n",
       "      <td>0</td>\n",
       "      <td>0</td>\n",
       "      <td>0</td>\n",
       "    </tr>\n",
       "    <tr>\n",
       "      <th>2</th>\n",
       "      <td>마라213944</td>\n",
       "      <td>MULTIPOLYGON (((128.83312 35.23767, 128.83313 ...</td>\n",
       "      <td>9.0</td>\n",
       "      <td>0</td>\n",
       "      <td>0</td>\n",
       "      <td>0</td>\n",
       "      <td>0</td>\n",
       "      <td>0</td>\n",
       "      <td>0</td>\n",
       "      <td>0</td>\n",
       "      <td>0</td>\n",
       "      <td>0</td>\n",
       "      <td>0</td>\n",
       "      <td>0</td>\n",
       "      <td>0</td>\n",
       "      <td>0</td>\n",
       "    </tr>\n",
       "    <tr>\n",
       "      <th>3</th>\n",
       "      <td>마마105025</td>\n",
       "      <td>MULTIPOLYGON (((128.71554 35.31194, 128.71555 ...</td>\n",
       "      <td>0.0</td>\n",
       "      <td>0</td>\n",
       "      <td>1</td>\n",
       "      <td>0</td>\n",
       "      <td>0</td>\n",
       "      <td>0</td>\n",
       "      <td>0</td>\n",
       "      <td>0</td>\n",
       "      <td>0</td>\n",
       "      <td>0</td>\n",
       "      <td>0</td>\n",
       "      <td>0</td>\n",
       "      <td>0</td>\n",
       "      <td>3</td>\n",
       "    </tr>\n",
       "    <tr>\n",
       "      <th>4</th>\n",
       "      <td>마라202940</td>\n",
       "      <td>MULTIPOLYGON (((128.82097 35.23420, 128.82099 ...</td>\n",
       "      <td>48.0</td>\n",
       "      <td>2</td>\n",
       "      <td>0</td>\n",
       "      <td>0</td>\n",
       "      <td>0</td>\n",
       "      <td>0</td>\n",
       "      <td>0</td>\n",
       "      <td>0</td>\n",
       "      <td>0</td>\n",
       "      <td>0</td>\n",
       "      <td>1</td>\n",
       "      <td>0</td>\n",
       "      <td>0</td>\n",
       "      <td>0</td>\n",
       "    </tr>\n",
       "  </tbody>\n",
       "</table>\n",
       "</div>"
      ],
      "text/plain": [
       "        gid                                           geometry  four  six  \\\n",
       "0  마라231909  MULTIPOLYGON (((128.85237 35.20590, 128.85239 ...  10.0    2   \n",
       "1  마라154986  MULTIPOLYGON (((128.76888 35.27623, 128.76889 ...   0.0    0   \n",
       "2  마라213944  MULTIPOLYGON (((128.83312 35.23767, 128.83313 ...   9.0    0   \n",
       "3  마마105025  MULTIPOLYGON (((128.71554 35.31194, 128.71555 ...   0.0    0   \n",
       "4  마라202940  MULTIPOLYGON (((128.82097 35.23420, 128.82099 ...  48.0    2   \n",
       "\n",
       "   seven  2018  2019  2020  2021  seventeen  eighteen  nineteen  twenty  \\\n",
       "0      0     0     0     0     0          0         0         0       0   \n",
       "1      0     0     0     0     0          0         0         0       0   \n",
       "2      0     0     0     0     0          0         0         0       0   \n",
       "3      1     0     0     0     0          0         0         0       0   \n",
       "4      0     0     0     0     0          0         0         0       1   \n",
       "\n",
       "   twentyone  two  cctv  \n",
       "0          0    0     0  \n",
       "1          0    0     0  \n",
       "2          0    0     0  \n",
       "3          0    0     3  \n",
       "4          0    0     0  "
      ]
     },
     "execution_count": 60,
     "metadata": {},
     "output_type": "execute_result"
    }
   ],
   "source": [
    "result.head()"
   ]
  },
  {
   "cell_type": "code",
   "execution_count": 56,
   "id": "included-pocket",
   "metadata": {},
   "outputs": [],
   "source": [
    "result = result.fillna(0)"
   ]
  },
  {
   "cell_type": "code",
   "execution_count": 58,
   "id": "eight-bumper",
   "metadata": {},
   "outputs": [],
   "source": [
    "result.to_csv('result.csv',index=False)"
   ]
  }
 ],
 "metadata": {
  "kernelspec": {
   "display_name": "Python 3",
   "language": "python",
   "name": "python3"
  },
  "language_info": {
   "codemirror_mode": {
    "name": "ipython",
    "version": 3
   },
   "file_extension": ".py",
   "mimetype": "text/x-python",
   "name": "python",
   "nbconvert_exporter": "python",
   "pygments_lexer": "ipython3",
   "version": "3.6.9"
  }
 },
 "nbformat": 4,
 "nbformat_minor": 5
}
