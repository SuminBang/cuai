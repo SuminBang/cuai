{
 "cells": [
  {
   "cell_type": "code",
   "execution_count": 273,
   "id": "e03cfc2e",
   "metadata": {},
   "outputs": [],
   "source": [
    "# 패키지 불러오기\n",
    "import pandas as pd\n",
    "import numpy as np\n",
    "import matplotlib.pyplot as plt\n",
    "import seaborn as sns\n",
    "plt.style.use('fivethirtyeight')\n",
    "from scipy.stats import norm\n",
    "from sklearn.preprocessing import StandardScaler\n",
    "from scipy import stats\n",
    "import warnings\n",
    "warnings.filterwarnings('ignore')\n",
    "%matplotlib inline\n",
    "from sklearn.ensemble import VotingClassifier\n",
    "from sklearn.linear_model import LogisticRegression\n",
    "from sklearn.neighbors import KNeighborsClassifier\n",
    "from sklearn.svm import SVC\n",
    "from sklearn.naive_bayes import GaussianNB\n",
    "from sklearn.ensemble import GradientBoostingClassifier\n",
    "from xgboost import XGBRegressor\n",
    "import xgboost\n",
    "import pandas as pd\n",
    "import numpy as np \n",
    "import matplotlib.pyplot as plt\n",
    "import seaborn as sns\n",
    "plt.rcParams['font.size'] = 15\n",
    "import warnings \n",
    "warnings.filterwarnings(action='ignore')"
   ]
  },
  {
   "cell_type": "code",
   "execution_count": 274,
   "id": "43ffdb99",
   "metadata": {},
   "outputs": [],
   "source": [
    "EDA = pd.read_csv('EDA.csv',encoding='cp949')"
   ]
  },
  {
   "cell_type": "code",
   "execution_count": 275,
   "id": "d29739ae",
   "metadata": {
    "scrolled": false
   },
   "outputs": [
    {
     "data": {
      "text/html": [
       "<div>\n",
       "<style scoped>\n",
       "    .dataframe tbody tr th:only-of-type {\n",
       "        vertical-align: middle;\n",
       "    }\n",
       "\n",
       "    .dataframe tbody tr th {\n",
       "        vertical-align: top;\n",
       "    }\n",
       "\n",
       "    .dataframe thead th {\n",
       "        text-align: right;\n",
       "    }\n",
       "</style>\n",
       "<table border=\"1\" class=\"dataframe\">\n",
       "  <thead>\n",
       "    <tr style=\"text-align: right;\">\n",
       "      <th></th>\n",
       "      <th>gid</th>\n",
       "      <th>geometry</th>\n",
       "      <th>four</th>\n",
       "      <th>six</th>\n",
       "      <th>seven</th>\n",
       "      <th>2018</th>\n",
       "      <th>2019</th>\n",
       "      <th>2020</th>\n",
       "      <th>2021</th>\n",
       "      <th>seventeen</th>\n",
       "      <th>eighteen</th>\n",
       "      <th>nineteen</th>\n",
       "      <th>twenty</th>\n",
       "      <th>twentyone</th>\n",
       "      <th>two</th>\n",
       "      <th>cctv</th>\n",
       "    </tr>\n",
       "  </thead>\n",
       "  <tbody>\n",
       "    <tr>\n",
       "      <th>0</th>\n",
       "      <td>마라231909</td>\n",
       "      <td>MULTIPOLYGON (((128.8523707124823 35.205903552...</td>\n",
       "      <td>10</td>\n",
       "      <td>2</td>\n",
       "      <td>0</td>\n",
       "      <td>0</td>\n",
       "      <td>0</td>\n",
       "      <td>0</td>\n",
       "      <td>0</td>\n",
       "      <td>0</td>\n",
       "      <td>0</td>\n",
       "      <td>0</td>\n",
       "      <td>0</td>\n",
       "      <td>0</td>\n",
       "      <td>0</td>\n",
       "      <td>0</td>\n",
       "    </tr>\n",
       "    <tr>\n",
       "      <th>1</th>\n",
       "      <td>마라154986</td>\n",
       "      <td>MULTIPOLYGON (((128.7688788763629 35.276233217...</td>\n",
       "      <td>0</td>\n",
       "      <td>0</td>\n",
       "      <td>0</td>\n",
       "      <td>0</td>\n",
       "      <td>0</td>\n",
       "      <td>0</td>\n",
       "      <td>0</td>\n",
       "      <td>0</td>\n",
       "      <td>0</td>\n",
       "      <td>0</td>\n",
       "      <td>0</td>\n",
       "      <td>0</td>\n",
       "      <td>0</td>\n",
       "      <td>0</td>\n",
       "    </tr>\n",
       "    <tr>\n",
       "      <th>2</th>\n",
       "      <td>마라213944</td>\n",
       "      <td>MULTIPOLYGON (((128.833116749215 35.2376741072...</td>\n",
       "      <td>9</td>\n",
       "      <td>0</td>\n",
       "      <td>0</td>\n",
       "      <td>0</td>\n",
       "      <td>0</td>\n",
       "      <td>0</td>\n",
       "      <td>0</td>\n",
       "      <td>0</td>\n",
       "      <td>0</td>\n",
       "      <td>0</td>\n",
       "      <td>0</td>\n",
       "      <td>0</td>\n",
       "      <td>0</td>\n",
       "      <td>0</td>\n",
       "    </tr>\n",
       "    <tr>\n",
       "      <th>3</th>\n",
       "      <td>마마105025</td>\n",
       "      <td>MULTIPOLYGON (((128.7155376522062 35.311944657...</td>\n",
       "      <td>0</td>\n",
       "      <td>0</td>\n",
       "      <td>1</td>\n",
       "      <td>0</td>\n",
       "      <td>0</td>\n",
       "      <td>0</td>\n",
       "      <td>0</td>\n",
       "      <td>0</td>\n",
       "      <td>0</td>\n",
       "      <td>0</td>\n",
       "      <td>0</td>\n",
       "      <td>0</td>\n",
       "      <td>0</td>\n",
       "      <td>3</td>\n",
       "    </tr>\n",
       "    <tr>\n",
       "      <th>4</th>\n",
       "      <td>마라202940</td>\n",
       "      <td>MULTIPOLYGON (((128.8209718821295 35.234200772...</td>\n",
       "      <td>48</td>\n",
       "      <td>2</td>\n",
       "      <td>0</td>\n",
       "      <td>0</td>\n",
       "      <td>0</td>\n",
       "      <td>0</td>\n",
       "      <td>0</td>\n",
       "      <td>0</td>\n",
       "      <td>0</td>\n",
       "      <td>0</td>\n",
       "      <td>1</td>\n",
       "      <td>0</td>\n",
       "      <td>0</td>\n",
       "      <td>0</td>\n",
       "    </tr>\n",
       "  </tbody>\n",
       "</table>\n",
       "</div>"
      ],
      "text/plain": [
       "        gid                                           geometry  four  six  \\\n",
       "0  마라231909  MULTIPOLYGON (((128.8523707124823 35.205903552...    10    2   \n",
       "1  마라154986  MULTIPOLYGON (((128.7688788763629 35.276233217...     0    0   \n",
       "2  마라213944  MULTIPOLYGON (((128.833116749215 35.2376741072...     9    0   \n",
       "3  마마105025  MULTIPOLYGON (((128.7155376522062 35.311944657...     0    0   \n",
       "4  마라202940  MULTIPOLYGON (((128.8209718821295 35.234200772...    48    2   \n",
       "\n",
       "   seven  2018  2019  2020  2021  seventeen  eighteen  nineteen  twenty  \\\n",
       "0      0     0     0     0     0          0         0         0       0   \n",
       "1      0     0     0     0     0          0         0         0       0   \n",
       "2      0     0     0     0     0          0         0         0       0   \n",
       "3      1     0     0     0     0          0         0         0       0   \n",
       "4      0     0     0     0     0          0         0         0       1   \n",
       "\n",
       "   twentyone  two  cctv  \n",
       "0          0    0     0  \n",
       "1          0    0     0  \n",
       "2          0    0     0  \n",
       "3          0    0     3  \n",
       "4          0    0     0  "
      ]
     },
     "execution_count": 275,
     "metadata": {},
     "output_type": "execute_result"
    }
   ],
   "source": [
    "EDA.head()"
   ]
  },
  {
   "cell_type": "code",
   "execution_count": 276,
   "id": "50d26b7f",
   "metadata": {},
   "outputs": [],
   "source": [
    "EDA1 = EDA[EDA['cctv'] >= 1]"
   ]
  },
  {
   "cell_type": "code",
   "execution_count": 277,
   "id": "7e40c2a1",
   "metadata": {
    "scrolled": true
   },
   "outputs": [
    {
     "data": {
      "text/html": [
       "<div>\n",
       "<style scoped>\n",
       "    .dataframe tbody tr th:only-of-type {\n",
       "        vertical-align: middle;\n",
       "    }\n",
       "\n",
       "    .dataframe tbody tr th {\n",
       "        vertical-align: top;\n",
       "    }\n",
       "\n",
       "    .dataframe thead th {\n",
       "        text-align: right;\n",
       "    }\n",
       "</style>\n",
       "<table border=\"1\" class=\"dataframe\">\n",
       "  <thead>\n",
       "    <tr style=\"text-align: right;\">\n",
       "      <th></th>\n",
       "      <th>gid</th>\n",
       "      <th>geometry</th>\n",
       "      <th>four</th>\n",
       "      <th>six</th>\n",
       "      <th>seven</th>\n",
       "      <th>2018</th>\n",
       "      <th>2019</th>\n",
       "      <th>2020</th>\n",
       "      <th>2021</th>\n",
       "      <th>seventeen</th>\n",
       "      <th>eighteen</th>\n",
       "      <th>nineteen</th>\n",
       "      <th>twenty</th>\n",
       "      <th>twentyone</th>\n",
       "      <th>two</th>\n",
       "      <th>cctv</th>\n",
       "    </tr>\n",
       "  </thead>\n",
       "  <tbody>\n",
       "    <tr>\n",
       "      <th>3</th>\n",
       "      <td>마마105025</td>\n",
       "      <td>MULTIPOLYGON (((128.7155376522062 35.311944657...</td>\n",
       "      <td>0</td>\n",
       "      <td>0</td>\n",
       "      <td>1</td>\n",
       "      <td>0</td>\n",
       "      <td>0</td>\n",
       "      <td>0</td>\n",
       "      <td>0</td>\n",
       "      <td>0</td>\n",
       "      <td>0</td>\n",
       "      <td>0</td>\n",
       "      <td>0</td>\n",
       "      <td>0</td>\n",
       "      <td>0</td>\n",
       "      <td>3</td>\n",
       "    </tr>\n",
       "    <tr>\n",
       "      <th>6</th>\n",
       "      <td>마라142954</td>\n",
       "      <td>MULTIPOLYGON (((128.7552421328997 35.247523262...</td>\n",
       "      <td>21</td>\n",
       "      <td>4</td>\n",
       "      <td>0</td>\n",
       "      <td>0</td>\n",
       "      <td>0</td>\n",
       "      <td>0</td>\n",
       "      <td>0</td>\n",
       "      <td>0</td>\n",
       "      <td>0</td>\n",
       "      <td>0</td>\n",
       "      <td>0</td>\n",
       "      <td>0</td>\n",
       "      <td>0</td>\n",
       "      <td>1</td>\n",
       "    </tr>\n",
       "    <tr>\n",
       "      <th>20</th>\n",
       "      <td>마라281955</td>\n",
       "      <td>MULTIPOLYGON (((128.9080022709618 35.246743775...</td>\n",
       "      <td>397</td>\n",
       "      <td>6</td>\n",
       "      <td>1</td>\n",
       "      <td>176</td>\n",
       "      <td>156</td>\n",
       "      <td>122</td>\n",
       "      <td>125</td>\n",
       "      <td>1</td>\n",
       "      <td>0</td>\n",
       "      <td>0</td>\n",
       "      <td>0</td>\n",
       "      <td>0</td>\n",
       "      <td>0</td>\n",
       "      <td>5</td>\n",
       "    </tr>\n",
       "    <tr>\n",
       "      <th>22</th>\n",
       "      <td>마라273935</td>\n",
       "      <td>MULTIPOLYGON (((128.8989018157547 35.228816966...</td>\n",
       "      <td>234</td>\n",
       "      <td>0</td>\n",
       "      <td>1</td>\n",
       "      <td>306</td>\n",
       "      <td>312</td>\n",
       "      <td>247</td>\n",
       "      <td>213</td>\n",
       "      <td>0</td>\n",
       "      <td>0</td>\n",
       "      <td>0</td>\n",
       "      <td>0</td>\n",
       "      <td>0</td>\n",
       "      <td>0</td>\n",
       "      <td>4</td>\n",
       "    </tr>\n",
       "    <tr>\n",
       "      <th>26</th>\n",
       "      <td>마라186890</td>\n",
       "      <td>MULTIPOLYGON (((128.8026719911344 35.189317442...</td>\n",
       "      <td>15</td>\n",
       "      <td>5</td>\n",
       "      <td>1</td>\n",
       "      <td>0</td>\n",
       "      <td>0</td>\n",
       "      <td>0</td>\n",
       "      <td>0</td>\n",
       "      <td>0</td>\n",
       "      <td>0</td>\n",
       "      <td>0</td>\n",
       "      <td>0</td>\n",
       "      <td>0</td>\n",
       "      <td>0</td>\n",
       "      <td>3</td>\n",
       "    </tr>\n",
       "  </tbody>\n",
       "</table>\n",
       "</div>"
      ],
      "text/plain": [
       "         gid                                           geometry  four  six  \\\n",
       "3   마마105025  MULTIPOLYGON (((128.7155376522062 35.311944657...     0    0   \n",
       "6   마라142954  MULTIPOLYGON (((128.7552421328997 35.247523262...    21    4   \n",
       "20  마라281955  MULTIPOLYGON (((128.9080022709618 35.246743775...   397    6   \n",
       "22  마라273935  MULTIPOLYGON (((128.8989018157547 35.228816966...   234    0   \n",
       "26  마라186890  MULTIPOLYGON (((128.8026719911344 35.189317442...    15    5   \n",
       "\n",
       "    seven  2018  2019  2020  2021  seventeen  eighteen  nineteen  twenty  \\\n",
       "3       1     0     0     0     0          0         0         0       0   \n",
       "6       0     0     0     0     0          0         0         0       0   \n",
       "20      1   176   156   122   125          1         0         0       0   \n",
       "22      1   306   312   247   213          0         0         0       0   \n",
       "26      1     0     0     0     0          0         0         0       0   \n",
       "\n",
       "    twentyone  two  cctv  \n",
       "3           0    0     3  \n",
       "6           0    0     1  \n",
       "20          0    0     5  \n",
       "22          0    0     4  \n",
       "26          0    0     3  "
      ]
     },
     "execution_count": 277,
     "metadata": {},
     "output_type": "execute_result"
    }
   ],
   "source": [
    "EDA1.head()"
   ]
  },
  {
   "cell_type": "markdown",
   "id": "831cb004",
   "metadata": {},
   "source": [
    "# LGBM"
   ]
  },
  {
   "cell_type": "code",
   "execution_count": 278,
   "id": "3cadb3d7",
   "metadata": {},
   "outputs": [],
   "source": [
    "from sklearn.model_selection import train_test_split\n",
    "from sklearn.preprocessing import StandardScaler, LabelEncoder\n",
    "from sklearn.tree import DecisionTreeRegressor\n",
    "from sklearn.linear_model import Lasso\n",
    "from sklearn.ensemble import  RandomForestRegressor,ExtraTreesRegressor\n",
    "from lightgbm import LGBMRegressor\n",
    "from sklearn.metrics import mean_absolute_error"
   ]
  },
  {
   "cell_type": "code",
   "execution_count": 279,
   "id": "7605034d",
   "metadata": {},
   "outputs": [],
   "source": [
    "import lightgbm as lgb"
   ]
  },
  {
   "cell_type": "code",
   "execution_count": 280,
   "id": "23557d8c",
   "metadata": {},
   "outputs": [],
   "source": [
    "x_train = EDA1[['six', 'seven', '2018', '2019', '2020', '2021','seventeen','eighteen','nineteen','twenty','twentyone','two','cctv']]\n",
    "y_train = EDA1[['four']]\n",
    "x_test  = EDA[['six', 'seven', '2018', '2019', '2020', '2021','seventeen','eighteen','nineteen','twenty','twentyone','two','cctv']]"
   ]
  },
  {
   "cell_type": "code",
   "execution_count": 281,
   "id": "0ebba625",
   "metadata": {},
   "outputs": [],
   "source": [
    "dev_x, val_x, dev_y, val_y = train_test_split(x_train, y_train, test_size = 0.2, random_state = 2022)"
   ]
  },
  {
   "cell_type": "code",
   "execution_count": 282,
   "id": "01ad94f2",
   "metadata": {},
   "outputs": [],
   "source": [
    "params = {\n",
    "    'objective' : 'regression',\n",
    "    'metric' : 'mae',\n",
    "    'num_leaves' : 40,\n",
    "    'learning_rate' : 0.004,\n",
    "    'bagging_fraction' : 0.6,\n",
    "    'feature_fraction' : 0.6,\n",
    "    'bagging_frequnecy' : 6,\n",
    "    'bagging_seed' : 2021,\n",
    "    'verbosity' : -1,\n",
    "    'seed' : 2021\n",
    "}"
   ]
  },
  {
   "cell_type": "code",
   "execution_count": 283,
   "id": "942e73b8",
   "metadata": {
    "scrolled": true
   },
   "outputs": [
    {
     "name": "stdout",
     "output_type": "stream",
     "text": [
      "[LightGBM] [Warning] Unknown parameter: bagging_frequnecy\n",
      "Training until validation scores don't improve for 100 rounds\n",
      "[150]\ttraining's l1: 70.6508\tvalid_1's l1: 66.2393\n",
      "[300]\ttraining's l1: 61.6708\tvalid_1's l1: 60.1026\n",
      "[450]\ttraining's l1: 57.7732\tvalid_1's l1: 56.5905\n",
      "[600]\ttraining's l1: 55.6866\tvalid_1's l1: 54.8284\n",
      "[750]\ttraining's l1: 54.2493\tvalid_1's l1: 54.1393\n",
      "[900]\ttraining's l1: 53.1808\tvalid_1's l1: 54.0773\n",
      "Early stopping, best iteration is:\n",
      "[849]\ttraining's l1: 53.5484\tvalid_1's l1: 54.0402\n"
     ]
    }
   ],
   "source": [
    "lgtrain = lgb.Dataset(dev_x,dev_y)\n",
    "lgval = lgb.Dataset(val_x,val_y)\n",
    "evals_result = {}\n",
    "model1 = lgb.train(params = params,\n",
    "                  train_set = lgtrain,\n",
    "                  num_boost_round = 5000,\n",
    "                  valid_sets = [lgtrain,lgval],\n",
    "                  early_stopping_rounds = 100,\n",
    "                  verbose_eval = 150,\n",
    "                  evals_result = evals_result)"
   ]
  },
  {
   "cell_type": "code",
   "execution_count": 284,
   "id": "f97e6e8f",
   "metadata": {},
   "outputs": [],
   "source": [
    "pred1 = model1.predict(x_test,num_iteration=model1.best_iteration)"
   ]
  },
  {
   "cell_type": "code",
   "execution_count": 285,
   "id": "35b5563e",
   "metadata": {},
   "outputs": [
    {
     "name": "stdout",
     "output_type": "stream",
     "text": [
      "MAE: 42.72216890837733\n"
     ]
    }
   ],
   "source": [
    "print(\"MAE:\",mean_absolute_error(y_test, pred1))"
   ]
  },
  {
   "cell_type": "markdown",
   "id": "0f2657f9",
   "metadata": {},
   "source": [
    "# RandomForest"
   ]
  },
  {
   "cell_type": "code",
   "execution_count": 291,
   "id": "cf48a964",
   "metadata": {},
   "outputs": [],
   "source": [
    "from sklearn.ensemble import RandomForestRegressor"
   ]
  },
  {
   "cell_type": "code",
   "execution_count": 292,
   "id": "877b5258",
   "metadata": {},
   "outputs": [],
   "source": [
    "model2 = RandomForestRegressor(n_jobs=-1, random_state=42)"
   ]
  },
  {
   "cell_type": "code",
   "execution_count": 293,
   "id": "d409abcc",
   "metadata": {
    "scrolled": true
   },
   "outputs": [
    {
     "data": {
      "text/plain": [
       "RandomForestRegressor(n_jobs=-1, random_state=42)"
      ]
     },
     "execution_count": 293,
     "metadata": {},
     "output_type": "execute_result"
    }
   ],
   "source": [
    "model2.fit(x_train, y_train)"
   ]
  },
  {
   "cell_type": "code",
   "execution_count": 294,
   "id": "722aa4a1",
   "metadata": {},
   "outputs": [],
   "source": [
    "pred2 = model2.predict(x_test)"
   ]
  },
  {
   "cell_type": "code",
   "execution_count": 295,
   "id": "f29fefc6",
   "metadata": {
    "scrolled": true
   },
   "outputs": [
    {
     "name": "stdout",
     "output_type": "stream",
     "text": [
      "MAE: 55.78079255380983\n"
     ]
    }
   ],
   "source": [
    "print(\"MAE:\",mean_absolute_error(y_test, pred2))"
   ]
  },
  {
   "cell_type": "markdown",
   "id": "c0e46002",
   "metadata": {},
   "source": [
    "# Catboost"
   ]
  },
  {
   "cell_type": "code",
   "execution_count": 296,
   "id": "e695c0a9",
   "metadata": {},
   "outputs": [],
   "source": [
    "import numpy as np\n",
    "import pandas as pd\n",
    "import seaborn as sns\n",
    "import matplotlib.pyplot as plt\n",
    "import warnings, random\n",
    "warnings.filterwarnings(action='ignore')\n",
    "\n",
    "from sklearn.metrics import log_loss\n",
    "from sklearn.preprocessing import StandardScaler\n",
    "from sklearn.model_selection import StratifiedKFold\n",
    "\n",
    "from sklearn.cluster import KMeans\n",
    "from catboost import CatBoostClassifier, Pool"
   ]
  },
  {
   "cell_type": "code",
   "execution_count": 297,
   "id": "71d73238",
   "metadata": {},
   "outputs": [],
   "source": [
    "x_train = EDA1[['six', 'seven', '2018', '2019', '2020', '2021','seventeen','eighteen','nineteen','twenty','twentyone','two','cctv']]\n",
    "y_train = EDA1[['four']]\n",
    "x_test  = EDA[['six', 'seven', '2018', '2019', '2020', '2021','seventeen','eighteen','nineteen','twenty','twentyone','two','cctv']]\n",
    "y_test = EDA['four']"
   ]
  },
  {
   "cell_type": "code",
   "execution_count": 298,
   "id": "87bf9440",
   "metadata": {},
   "outputs": [],
   "source": [
    "from catboost import CatBoostRegressor"
   ]
  },
  {
   "cell_type": "code",
   "execution_count": 300,
   "id": "205d86fd",
   "metadata": {},
   "outputs": [],
   "source": [
    "cb_model = CatBoostRegressor(\n",
    "    iterations = 500,\n",
    "    learning_rate = 0.05,\n",
    "    depth = 10,\n",
    "    eval_metric = 'MAE',\n",
    "    random_seed = 2022,\n",
    "    bagging_temperature = 0.2,\n",
    "    od_type = 'Iter',\n",
    "    metric_period = 50,\n",
    "    od_wait = 20\n",
    ")"
   ]
  },
  {
   "cell_type": "code",
   "execution_count": 301,
   "id": "003e0d0f",
   "metadata": {},
   "outputs": [],
   "source": [
    "dev_x, val_x, dev_y, val_y = train_test_split(x_train, y_train, test_size = 0.2, random_state = 2021)"
   ]
  },
  {
   "cell_type": "code",
   "execution_count": 302,
   "id": "5dba63b0",
   "metadata": {},
   "outputs": [
    {
     "name": "stderr",
     "output_type": "stream",
     "text": [
      "Warning: Overfitting detector is active, thus evaluation metric is calculated on every iteration. 'metric_period' is ignored for evaluation metric.\n"
     ]
    },
    {
     "name": "stdout",
     "output_type": "stream",
     "text": [
      "0:\tlearn: 86.0245978\ttest: 89.2686849\tbest: 89.2686849 (0)\ttotal: 5.47ms\tremaining: 2.73s\n",
      "50:\tlearn: 61.9222664\ttest: 72.1740966\tbest: 72.1740966 (50)\ttotal: 209ms\tremaining: 1.84s\n",
      "100:\tlearn: 50.4029342\ttest: 63.7880746\tbest: 63.7566616 (97)\ttotal: 420ms\tremaining: 1.66s\n",
      "150:\tlearn: 42.4935884\ttest: 58.9155718\tbest: 58.8954058 (149)\ttotal: 726ms\tremaining: 1.68s\n",
      "200:\tlearn: 37.2495523\ttest: 57.6739146\tbest: 57.6534686 (197)\ttotal: 972ms\tremaining: 1.45s\n",
      "Stopped by overfitting detector  (20 iterations wait)\n",
      "\n",
      "bestTest = 57.65346864\n",
      "bestIteration = 197\n",
      "\n",
      "Shrink model to first 198 iterations.\n"
     ]
    },
    {
     "data": {
      "text/plain": [
       "<catboost.core.CatBoostRegressor at 0x7fce7dc27940>"
      ]
     },
     "execution_count": 302,
     "metadata": {},
     "output_type": "execute_result"
    }
   ],
   "source": [
    "cb_model.fit(\n",
    "    dev_x,dev_y,\n",
    "    eval_set = (val_x,val_y),\n",
    "    use_best_model = True,\n",
    "    verbose = 50\n",
    ")"
   ]
  },
  {
   "cell_type": "code",
   "execution_count": 303,
   "id": "bebf42ed",
   "metadata": {},
   "outputs": [],
   "source": [
    "pred3 = cb_model.predict(x_test)"
   ]
  },
  {
   "cell_type": "code",
   "execution_count": 304,
   "id": "7daa061f",
   "metadata": {},
   "outputs": [
    {
     "name": "stdout",
     "output_type": "stream",
     "text": [
      "MAE: 52.21572282759797\n"
     ]
    }
   ],
   "source": [
    "print(\"MAE:\",mean_absolute_error(y_test, pred3))"
   ]
  },
  {
   "cell_type": "markdown",
   "id": "3083c37a",
   "metadata": {},
   "source": [
    "# XGBoost"
   ]
  },
  {
   "cell_type": "code",
   "execution_count": 305,
   "id": "0e4d27b7",
   "metadata": {},
   "outputs": [],
   "source": [
    "params = {\n",
    "    'objective' : 'reg:linear',\n",
    "    'eval_metric' : 'mae',\n",
    "    'eta' : 0.001,\n",
    "    'max_depth' : 10,\n",
    "    'subsample' : 0.6,\n",
    "    'colsample_bytree' : 0.6,\n",
    "    'alpha' : 0.001,\n",
    "    'random_state' : 2021,\n",
    "    'silent' : True\n",
    "}\n"
   ]
  },
  {
   "cell_type": "code",
   "execution_count": 307,
   "id": "ce44c33f",
   "metadata": {},
   "outputs": [],
   "source": [
    "dev_x, val_x, dev_y, val_y = train_test_split(x_train, y_train, test_size = 0.2, random_state = 2022)"
   ]
  },
  {
   "cell_type": "code",
   "execution_count": 308,
   "id": "e0bc8f0e",
   "metadata": {},
   "outputs": [
    {
     "name": "stdout",
     "output_type": "stream",
     "text": [
      "[0]\ttrain-mae:93.91775\tvalid-mae:80.08653\n",
      "[100]\ttrain-mae:86.99316\tvalid-mae:73.82806\n",
      "[200]\ttrain-mae:80.92593\tvalid-mae:68.48614\n",
      "[300]\ttrain-mae:75.77408\tvalid-mae:64.26708\n",
      "[400]\ttrain-mae:71.22688\tvalid-mae:61.24394\n",
      "[500]\ttrain-mae:67.14778\tvalid-mae:58.75109\n",
      "[600]\ttrain-mae:63.59923\tvalid-mae:56.91884\n",
      "[700]\ttrain-mae:60.47940\tvalid-mae:55.45323\n",
      "[800]\ttrain-mae:57.70274\tvalid-mae:54.34262\n",
      "[900]\ttrain-mae:55.26190\tvalid-mae:53.61702\n",
      "[1000]\ttrain-mae:53.08186\tvalid-mae:53.11166\n",
      "[1100]\ttrain-mae:51.17434\tvalid-mae:52.78200\n",
      "[1200]\ttrain-mae:49.43947\tvalid-mae:52.54643\n",
      "[1300]\ttrain-mae:47.88657\tvalid-mae:52.34921\n",
      "[1400]\ttrain-mae:46.51078\tvalid-mae:52.23352\n",
      "[1500]\ttrain-mae:45.26772\tvalid-mae:52.11384\n",
      "[1600]\ttrain-mae:44.14037\tvalid-mae:52.05564\n",
      "[1700]\ttrain-mae:43.14108\tvalid-mae:51.95044\n",
      "[1800]\ttrain-mae:42.26803\tvalid-mae:51.92527\n",
      "[1900]\ttrain-mae:41.36128\tvalid-mae:51.89595\n",
      "[1999]\ttrain-mae:40.53746\tvalid-mae:51.88799\n"
     ]
    }
   ],
   "source": [
    "tr_data = xgb.DMatrix(dev_x,dev_y)\n",
    "va_data = xgb.DMatrix(val_x,val_y)\n",
    "\n",
    "watchlist = [(tr_data,'train'), (va_data,'valid')]\n",
    "\n",
    "model_xgb = xgb.train(\n",
    "    params = params,\n",
    "    dtrain = tr_data,\n",
    "    num_boost_round = 2000,\n",
    "    evals = watchlist,\n",
    "    maximize = False,\n",
    "    early_stopping_rounds = 100,\n",
    "    verbose_eval = 100\n",
    ")"
   ]
  },
  {
   "cell_type": "code",
   "execution_count": 309,
   "id": "585588b3",
   "metadata": {},
   "outputs": [],
   "source": [
    "dtest = xgb.DMatrix(x_test)"
   ]
  },
  {
   "cell_type": "code",
   "execution_count": 310,
   "id": "1d445c5f",
   "metadata": {},
   "outputs": [],
   "source": [
    "pred4 = model_xgb.predict(dtest,ntree_limit=model_xgb.best_ntree_limit)"
   ]
  },
  {
   "cell_type": "code",
   "execution_count": 311,
   "id": "bab8519c",
   "metadata": {
    "scrolled": true
   },
   "outputs": [
    {
     "name": "stdout",
     "output_type": "stream",
     "text": [
      "MAE: 34.13679312732092\n"
     ]
    }
   ],
   "source": [
    "print(\"MAE:\",mean_absolute_error(y_test, pred4))"
   ]
  },
  {
   "cell_type": "code",
   "execution_count": 312,
   "id": "e753b258",
   "metadata": {},
   "outputs": [],
   "source": [
    "EDA['pred']=pred4"
   ]
  },
  {
   "cell_type": "code",
   "execution_count": 313,
   "id": "393418e9",
   "metadata": {},
   "outputs": [
    {
     "data": {
      "text/html": [
       "<div>\n",
       "<style scoped>\n",
       "    .dataframe tbody tr th:only-of-type {\n",
       "        vertical-align: middle;\n",
       "    }\n",
       "\n",
       "    .dataframe tbody tr th {\n",
       "        vertical-align: top;\n",
       "    }\n",
       "\n",
       "    .dataframe thead th {\n",
       "        text-align: right;\n",
       "    }\n",
       "</style>\n",
       "<table border=\"1\" class=\"dataframe\">\n",
       "  <thead>\n",
       "    <tr style=\"text-align: right;\">\n",
       "      <th></th>\n",
       "      <th>gid</th>\n",
       "      <th>geometry</th>\n",
       "      <th>four</th>\n",
       "      <th>six</th>\n",
       "      <th>seven</th>\n",
       "      <th>2018</th>\n",
       "      <th>2019</th>\n",
       "      <th>2020</th>\n",
       "      <th>2021</th>\n",
       "      <th>seventeen</th>\n",
       "      <th>eighteen</th>\n",
       "      <th>nineteen</th>\n",
       "      <th>twenty</th>\n",
       "      <th>twentyone</th>\n",
       "      <th>two</th>\n",
       "      <th>cctv</th>\n",
       "      <th>pred</th>\n",
       "    </tr>\n",
       "  </thead>\n",
       "  <tbody>\n",
       "    <tr>\n",
       "      <th>0</th>\n",
       "      <td>마라231909</td>\n",
       "      <td>MULTIPOLYGON (((128.8523707124823 35.205903552...</td>\n",
       "      <td>10</td>\n",
       "      <td>2</td>\n",
       "      <td>0</td>\n",
       "      <td>0</td>\n",
       "      <td>0</td>\n",
       "      <td>0</td>\n",
       "      <td>0</td>\n",
       "      <td>0</td>\n",
       "      <td>0</td>\n",
       "      <td>0</td>\n",
       "      <td>0</td>\n",
       "      <td>0</td>\n",
       "      <td>0</td>\n",
       "      <td>0</td>\n",
       "      <td>20.891960</td>\n",
       "    </tr>\n",
       "    <tr>\n",
       "      <th>1</th>\n",
       "      <td>마라154986</td>\n",
       "      <td>MULTIPOLYGON (((128.7688788763629 35.276233217...</td>\n",
       "      <td>0</td>\n",
       "      <td>0</td>\n",
       "      <td>0</td>\n",
       "      <td>0</td>\n",
       "      <td>0</td>\n",
       "      <td>0</td>\n",
       "      <td>0</td>\n",
       "      <td>0</td>\n",
       "      <td>0</td>\n",
       "      <td>0</td>\n",
       "      <td>0</td>\n",
       "      <td>0</td>\n",
       "      <td>0</td>\n",
       "      <td>0</td>\n",
       "      <td>28.464565</td>\n",
       "    </tr>\n",
       "    <tr>\n",
       "      <th>2</th>\n",
       "      <td>마라213944</td>\n",
       "      <td>MULTIPOLYGON (((128.833116749215 35.2376741072...</td>\n",
       "      <td>9</td>\n",
       "      <td>0</td>\n",
       "      <td>0</td>\n",
       "      <td>0</td>\n",
       "      <td>0</td>\n",
       "      <td>0</td>\n",
       "      <td>0</td>\n",
       "      <td>0</td>\n",
       "      <td>0</td>\n",
       "      <td>0</td>\n",
       "      <td>0</td>\n",
       "      <td>0</td>\n",
       "      <td>0</td>\n",
       "      <td>0</td>\n",
       "      <td>28.464565</td>\n",
       "    </tr>\n",
       "    <tr>\n",
       "      <th>3</th>\n",
       "      <td>마마105025</td>\n",
       "      <td>MULTIPOLYGON (((128.7155376522062 35.311944657...</td>\n",
       "      <td>0</td>\n",
       "      <td>0</td>\n",
       "      <td>1</td>\n",
       "      <td>0</td>\n",
       "      <td>0</td>\n",
       "      <td>0</td>\n",
       "      <td>0</td>\n",
       "      <td>0</td>\n",
       "      <td>0</td>\n",
       "      <td>0</td>\n",
       "      <td>0</td>\n",
       "      <td>0</td>\n",
       "      <td>0</td>\n",
       "      <td>3</td>\n",
       "      <td>43.803875</td>\n",
       "    </tr>\n",
       "    <tr>\n",
       "      <th>4</th>\n",
       "      <td>마라202940</td>\n",
       "      <td>MULTIPOLYGON (((128.8209718821295 35.234200772...</td>\n",
       "      <td>48</td>\n",
       "      <td>2</td>\n",
       "      <td>0</td>\n",
       "      <td>0</td>\n",
       "      <td>0</td>\n",
       "      <td>0</td>\n",
       "      <td>0</td>\n",
       "      <td>0</td>\n",
       "      <td>0</td>\n",
       "      <td>0</td>\n",
       "      <td>1</td>\n",
       "      <td>0</td>\n",
       "      <td>0</td>\n",
       "      <td>0</td>\n",
       "      <td>29.923029</td>\n",
       "    </tr>\n",
       "  </tbody>\n",
       "</table>\n",
       "</div>"
      ],
      "text/plain": [
       "        gid                                           geometry  four  six  \\\n",
       "0  마라231909  MULTIPOLYGON (((128.8523707124823 35.205903552...    10    2   \n",
       "1  마라154986  MULTIPOLYGON (((128.7688788763629 35.276233217...     0    0   \n",
       "2  마라213944  MULTIPOLYGON (((128.833116749215 35.2376741072...     9    0   \n",
       "3  마마105025  MULTIPOLYGON (((128.7155376522062 35.311944657...     0    0   \n",
       "4  마라202940  MULTIPOLYGON (((128.8209718821295 35.234200772...    48    2   \n",
       "\n",
       "   seven  2018  2019  2020  2021  seventeen  eighteen  nineteen  twenty  \\\n",
       "0      0     0     0     0     0          0         0         0       0   \n",
       "1      0     0     0     0     0          0         0         0       0   \n",
       "2      0     0     0     0     0          0         0         0       0   \n",
       "3      1     0     0     0     0          0         0         0       0   \n",
       "4      0     0     0     0     0          0         0         0       1   \n",
       "\n",
       "   twentyone  two  cctv       pred  \n",
       "0          0    0     0  20.891960  \n",
       "1          0    0     0  28.464565  \n",
       "2          0    0     0  28.464565  \n",
       "3          0    0     3  43.803875  \n",
       "4          0    0     0  29.923029  "
      ]
     },
     "execution_count": 313,
     "metadata": {},
     "output_type": "execute_result"
    }
   ],
   "source": [
    "EDA.head()"
   ]
  },
  {
   "cell_type": "code",
   "execution_count": 314,
   "id": "19c71c1c",
   "metadata": {
    "scrolled": true
   },
   "outputs": [],
   "source": [
    "EDA2 = EDA.sort_values(by=['pred'],ascending=False)"
   ]
  },
  {
   "cell_type": "code",
   "execution_count": 315,
   "id": "546c909c",
   "metadata": {},
   "outputs": [
    {
     "data": {
      "text/html": [
       "<div>\n",
       "<style scoped>\n",
       "    .dataframe tbody tr th:only-of-type {\n",
       "        vertical-align: middle;\n",
       "    }\n",
       "\n",
       "    .dataframe tbody tr th {\n",
       "        vertical-align: top;\n",
       "    }\n",
       "\n",
       "    .dataframe thead th {\n",
       "        text-align: right;\n",
       "    }\n",
       "</style>\n",
       "<table border=\"1\" class=\"dataframe\">\n",
       "  <thead>\n",
       "    <tr style=\"text-align: right;\">\n",
       "      <th></th>\n",
       "      <th>gid</th>\n",
       "      <th>geometry</th>\n",
       "      <th>four</th>\n",
       "      <th>six</th>\n",
       "      <th>seven</th>\n",
       "      <th>2018</th>\n",
       "      <th>2019</th>\n",
       "      <th>2020</th>\n",
       "      <th>2021</th>\n",
       "      <th>seventeen</th>\n",
       "      <th>eighteen</th>\n",
       "      <th>nineteen</th>\n",
       "      <th>twenty</th>\n",
       "      <th>twentyone</th>\n",
       "      <th>two</th>\n",
       "      <th>cctv</th>\n",
       "      <th>pred</th>\n",
       "    </tr>\n",
       "  </thead>\n",
       "  <tbody>\n",
       "    <tr>\n",
       "      <th>488</th>\n",
       "      <td>마라258935</td>\n",
       "      <td>MULTIPOLYGON (((128.882422588875 35.2290063205...</td>\n",
       "      <td>4998</td>\n",
       "      <td>2</td>\n",
       "      <td>0</td>\n",
       "      <td>93</td>\n",
       "      <td>88</td>\n",
       "      <td>98</td>\n",
       "      <td>104</td>\n",
       "      <td>0</td>\n",
       "      <td>0</td>\n",
       "      <td>0</td>\n",
       "      <td>16</td>\n",
       "      <td>0</td>\n",
       "      <td>0</td>\n",
       "      <td>2</td>\n",
       "      <td>2327.364502</td>\n",
       "    </tr>\n",
       "    <tr>\n",
       "      <th>2172</th>\n",
       "      <td>마라243939</td>\n",
       "      <td>MULTIPOLYGON (((128.8660036604245 35.232799242...</td>\n",
       "      <td>1880</td>\n",
       "      <td>10</td>\n",
       "      <td>1</td>\n",
       "      <td>82</td>\n",
       "      <td>78</td>\n",
       "      <td>86</td>\n",
       "      <td>86</td>\n",
       "      <td>0</td>\n",
       "      <td>0</td>\n",
       "      <td>0</td>\n",
       "      <td>21</td>\n",
       "      <td>0</td>\n",
       "      <td>0</td>\n",
       "      <td>5</td>\n",
       "      <td>1305.710815</td>\n",
       "    </tr>\n",
       "    <tr>\n",
       "      <th>5695</th>\n",
       "      <td>마라247971</td>\n",
       "      <td>MULTIPOLYGON (((128.8708839231963 35.261595912...</td>\n",
       "      <td>549</td>\n",
       "      <td>0</td>\n",
       "      <td>0</td>\n",
       "      <td>72</td>\n",
       "      <td>64</td>\n",
       "      <td>51</td>\n",
       "      <td>51</td>\n",
       "      <td>0</td>\n",
       "      <td>0</td>\n",
       "      <td>0</td>\n",
       "      <td>18</td>\n",
       "      <td>0</td>\n",
       "      <td>0</td>\n",
       "      <td>0</td>\n",
       "      <td>857.494446</td>\n",
       "    </tr>\n",
       "    <tr>\n",
       "      <th>7524</th>\n",
       "      <td>마라247970</td>\n",
       "      <td>MULTIPOLYGON (((128.8708687392403 35.260694466...</td>\n",
       "      <td>827</td>\n",
       "      <td>1</td>\n",
       "      <td>0</td>\n",
       "      <td>0</td>\n",
       "      <td>0</td>\n",
       "      <td>0</td>\n",
       "      <td>0</td>\n",
       "      <td>0</td>\n",
       "      <td>0</td>\n",
       "      <td>0</td>\n",
       "      <td>32</td>\n",
       "      <td>0</td>\n",
       "      <td>0</td>\n",
       "      <td>0</td>\n",
       "      <td>780.400146</td>\n",
       "    </tr>\n",
       "    <tr>\n",
       "      <th>6550</th>\n",
       "      <td>마라243938</td>\n",
       "      <td>MULTIPOLYGON (((128.865988546614 35.2318977900...</td>\n",
       "      <td>1347</td>\n",
       "      <td>0</td>\n",
       "      <td>1</td>\n",
       "      <td>7</td>\n",
       "      <td>6</td>\n",
       "      <td>6</td>\n",
       "      <td>6</td>\n",
       "      <td>0</td>\n",
       "      <td>0</td>\n",
       "      <td>0</td>\n",
       "      <td>15</td>\n",
       "      <td>1</td>\n",
       "      <td>0</td>\n",
       "      <td>1</td>\n",
       "      <td>743.605103</td>\n",
       "    </tr>\n",
       "  </tbody>\n",
       "</table>\n",
       "</div>"
      ],
      "text/plain": [
       "           gid                                           geometry  four  six  \\\n",
       "488   마라258935  MULTIPOLYGON (((128.882422588875 35.2290063205...  4998    2   \n",
       "2172  마라243939  MULTIPOLYGON (((128.8660036604245 35.232799242...  1880   10   \n",
       "5695  마라247971  MULTIPOLYGON (((128.8708839231963 35.261595912...   549    0   \n",
       "7524  마라247970  MULTIPOLYGON (((128.8708687392403 35.260694466...   827    1   \n",
       "6550  마라243938  MULTIPOLYGON (((128.865988546614 35.2318977900...  1347    0   \n",
       "\n",
       "      seven  2018  2019  2020  2021  seventeen  eighteen  nineteen  twenty  \\\n",
       "488       0    93    88    98   104          0         0         0      16   \n",
       "2172      1    82    78    86    86          0         0         0      21   \n",
       "5695      0    72    64    51    51          0         0         0      18   \n",
       "7524      0     0     0     0     0          0         0         0      32   \n",
       "6550      1     7     6     6     6          0         0         0      15   \n",
       "\n",
       "      twentyone  two  cctv         pred  \n",
       "488           0    0     2  2327.364502  \n",
       "2172          0    0     5  1305.710815  \n",
       "5695          0    0     0   857.494446  \n",
       "7524          0    0     0   780.400146  \n",
       "6550          1    0     1   743.605103  "
      ]
     },
     "execution_count": 315,
     "metadata": {},
     "output_type": "execute_result"
    }
   ],
   "source": [
    "EDA2.head()"
   ]
  },
  {
   "cell_type": "code",
   "execution_count": 316,
   "id": "bd06fd06",
   "metadata": {},
   "outputs": [],
   "source": [
    "EDA2.to_csv('EDA2.csv')"
   ]
  }
 ],
 "metadata": {
  "kernelspec": {
   "display_name": "Python 3",
   "language": "python",
   "name": "python3"
  },
  "language_info": {
   "codemirror_mode": {
    "name": "ipython",
    "version": 3
   },
   "file_extension": ".py",
   "mimetype": "text/x-python",
   "name": "python",
   "nbconvert_exporter": "python",
   "pygments_lexer": "ipython3",
   "version": "3.8.8"
  }
 },
 "nbformat": 4,
 "nbformat_minor": 5
}
